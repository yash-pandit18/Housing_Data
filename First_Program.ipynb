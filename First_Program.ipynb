{
  "nbformat": 4,
  "nbformat_minor": 0,
  "metadata": {
    "colab": {
      "name": "First Program.ipynb",
      "provenance": [],
      "collapsed_sections": [],
      "mount_file_id": "1Objw7m5_W36XyidMg0fWruCc2a1hVATy",
      "authorship_tag": "ABX9TyMUrjXbq7jCwRY4dPYVc71r",
      "include_colab_link": true
    },
    "kernelspec": {
      "name": "python3",
      "display_name": "Python 3"
    },
    "language_info": {
      "name": "python"
    }
  },
  "cells": [
    {
      "cell_type": "markdown",
      "metadata": {
        "id": "view-in-github",
        "colab_type": "text"
      },
      "source": [
        "<a href=\"https://colab.research.google.com/github/yash-pandit18/Housing_Data/blob/main/First_Program.ipynb\" target=\"_parent\"><img src=\"https://colab.research.google.com/assets/colab-badge.svg\" alt=\"Open In Colab\"/></a>"
      ]
    },
    {
      "cell_type": "code",
      "metadata": {
        "id": "1h1YcxsLoMYa"
      },
      "source": [
        "import pandas"
      ],
      "execution_count": null,
      "outputs": []
    },
    {
      "cell_type": "code",
      "metadata": {
        "id": "VML5zS68qPL4"
      },
      "source": [
        "Raw_Housing_Data = pandas.read_csv(\"1. Regression - Module - (Housing Prices).csv\")"
      ],
      "execution_count": null,
      "outputs": []
    },
    {
      "cell_type": "code",
      "metadata": {
        "colab": {
          "base_uri": "https://localhost:8080/",
          "height": 825
        },
        "id": "ANRF6aWHsXv4",
        "outputId": "f69b45a5-8282-4631-8348-2fe6397b5f07"
      },
      "source": [
        "Raw_Housing_Data"
      ],
      "execution_count": null,
      "outputs": [
        {
          "output_type": "execute_result",
          "data": {
            "text/html": [
              "<div>\n",
              "<style scoped>\n",
              "    .dataframe tbody tr th:only-of-type {\n",
              "        vertical-align: middle;\n",
              "    }\n",
              "\n",
              "    .dataframe tbody tr th {\n",
              "        vertical-align: top;\n",
              "    }\n",
              "\n",
              "    .dataframe thead th {\n",
              "        text-align: right;\n",
              "    }\n",
              "</style>\n",
              "<table border=\"1\" class=\"dataframe\">\n",
              "  <thead>\n",
              "    <tr style=\"text-align: right;\">\n",
              "      <th></th>\n",
              "      <th>ID</th>\n",
              "      <th>Date House was Sold</th>\n",
              "      <th>Sale Price</th>\n",
              "      <th>No of Bedrooms</th>\n",
              "      <th>No of Bathrooms</th>\n",
              "      <th>Flat Area (in Sqft)</th>\n",
              "      <th>Lot Area (in Sqft)</th>\n",
              "      <th>No of Floors</th>\n",
              "      <th>Waterfront View</th>\n",
              "      <th>No of Times Visited</th>\n",
              "      <th>Condition of the House</th>\n",
              "      <th>Overall Grade</th>\n",
              "      <th>Area of the House from Basement (in Sqft)</th>\n",
              "      <th>Basement Area (in Sqft)</th>\n",
              "      <th>Age of House (in Years)</th>\n",
              "      <th>Renovated Year</th>\n",
              "      <th>Zipcode</th>\n",
              "      <th>Latitude</th>\n",
              "      <th>Longitude</th>\n",
              "      <th>Living Area after Renovation (in Sqft)</th>\n",
              "      <th>Lot Area after Renovation (in Sqft)</th>\n",
              "    </tr>\n",
              "  </thead>\n",
              "  <tbody>\n",
              "    <tr>\n",
              "      <th>0</th>\n",
              "      <td>7129300520</td>\n",
              "      <td>14 October 2017</td>\n",
              "      <td>221900.0</td>\n",
              "      <td>3</td>\n",
              "      <td>1.00</td>\n",
              "      <td>1180.0</td>\n",
              "      <td>5650.0</td>\n",
              "      <td>1.0</td>\n",
              "      <td>No</td>\n",
              "      <td>None</td>\n",
              "      <td>Fair</td>\n",
              "      <td>7</td>\n",
              "      <td>1180.0</td>\n",
              "      <td>0</td>\n",
              "      <td>63</td>\n",
              "      <td>0</td>\n",
              "      <td>98178.0</td>\n",
              "      <td>47.5112</td>\n",
              "      <td>-122.257</td>\n",
              "      <td>1340.0</td>\n",
              "      <td>5650</td>\n",
              "    </tr>\n",
              "    <tr>\n",
              "      <th>1</th>\n",
              "      <td>6414100192</td>\n",
              "      <td>14 December 2017</td>\n",
              "      <td>538000.0</td>\n",
              "      <td>3</td>\n",
              "      <td>2.25</td>\n",
              "      <td>2570.0</td>\n",
              "      <td>7242.0</td>\n",
              "      <td>2.0</td>\n",
              "      <td>No</td>\n",
              "      <td>None</td>\n",
              "      <td>Fair</td>\n",
              "      <td>7</td>\n",
              "      <td>2170.0</td>\n",
              "      <td>400</td>\n",
              "      <td>67</td>\n",
              "      <td>1991</td>\n",
              "      <td>98125.0</td>\n",
              "      <td>47.7210</td>\n",
              "      <td>-122.319</td>\n",
              "      <td>1690.0</td>\n",
              "      <td>7639</td>\n",
              "    </tr>\n",
              "    <tr>\n",
              "      <th>2</th>\n",
              "      <td>5631500400</td>\n",
              "      <td>15 February 2016</td>\n",
              "      <td>180000.0</td>\n",
              "      <td>2</td>\n",
              "      <td>1.00</td>\n",
              "      <td>770.0</td>\n",
              "      <td>10000.0</td>\n",
              "      <td>1.0</td>\n",
              "      <td>No</td>\n",
              "      <td>None</td>\n",
              "      <td>Fair</td>\n",
              "      <td>6</td>\n",
              "      <td>770.0</td>\n",
              "      <td>0</td>\n",
              "      <td>85</td>\n",
              "      <td>0</td>\n",
              "      <td>98028.0</td>\n",
              "      <td>47.7379</td>\n",
              "      <td>-122.233</td>\n",
              "      <td>2720.0</td>\n",
              "      <td>8062</td>\n",
              "    </tr>\n",
              "    <tr>\n",
              "      <th>3</th>\n",
              "      <td>2487200875</td>\n",
              "      <td>14 December 2017</td>\n",
              "      <td>604000.0</td>\n",
              "      <td>4</td>\n",
              "      <td>3.00</td>\n",
              "      <td>1960.0</td>\n",
              "      <td>5000.0</td>\n",
              "      <td>1.0</td>\n",
              "      <td>No</td>\n",
              "      <td>None</td>\n",
              "      <td>Excellent</td>\n",
              "      <td>7</td>\n",
              "      <td>1050.0</td>\n",
              "      <td>910</td>\n",
              "      <td>53</td>\n",
              "      <td>0</td>\n",
              "      <td>98136.0</td>\n",
              "      <td>47.5208</td>\n",
              "      <td>-122.393</td>\n",
              "      <td>1360.0</td>\n",
              "      <td>5000</td>\n",
              "    </tr>\n",
              "    <tr>\n",
              "      <th>4</th>\n",
              "      <td>1954400510</td>\n",
              "      <td>15 February 2016</td>\n",
              "      <td>510000.0</td>\n",
              "      <td>3</td>\n",
              "      <td>2.00</td>\n",
              "      <td>1680.0</td>\n",
              "      <td>8080.0</td>\n",
              "      <td>1.0</td>\n",
              "      <td>No</td>\n",
              "      <td>None</td>\n",
              "      <td>Fair</td>\n",
              "      <td>8</td>\n",
              "      <td>1680.0</td>\n",
              "      <td>0</td>\n",
              "      <td>31</td>\n",
              "      <td>0</td>\n",
              "      <td>98074.0</td>\n",
              "      <td>47.6168</td>\n",
              "      <td>-122.045</td>\n",
              "      <td>1800.0</td>\n",
              "      <td>7503</td>\n",
              "    </tr>\n",
              "    <tr>\n",
              "      <th>...</th>\n",
              "      <td>...</td>\n",
              "      <td>...</td>\n",
              "      <td>...</td>\n",
              "      <td>...</td>\n",
              "      <td>...</td>\n",
              "      <td>...</td>\n",
              "      <td>...</td>\n",
              "      <td>...</td>\n",
              "      <td>...</td>\n",
              "      <td>...</td>\n",
              "      <td>...</td>\n",
              "      <td>...</td>\n",
              "      <td>...</td>\n",
              "      <td>...</td>\n",
              "      <td>...</td>\n",
              "      <td>...</td>\n",
              "      <td>...</td>\n",
              "      <td>...</td>\n",
              "      <td>...</td>\n",
              "      <td>...</td>\n",
              "      <td>...</td>\n",
              "    </tr>\n",
              "    <tr>\n",
              "      <th>21608</th>\n",
              "      <td>263000018</td>\n",
              "      <td>14 May 2017</td>\n",
              "      <td>360000.0</td>\n",
              "      <td>3</td>\n",
              "      <td>2.50</td>\n",
              "      <td>1530.0</td>\n",
              "      <td>1131.0</td>\n",
              "      <td>3.0</td>\n",
              "      <td>No</td>\n",
              "      <td>None</td>\n",
              "      <td>Fair</td>\n",
              "      <td>8</td>\n",
              "      <td>1530.0</td>\n",
              "      <td>0</td>\n",
              "      <td>9</td>\n",
              "      <td>0</td>\n",
              "      <td>98103.0</td>\n",
              "      <td>47.6993</td>\n",
              "      <td>-122.346</td>\n",
              "      <td>1530.0</td>\n",
              "      <td>1509</td>\n",
              "    </tr>\n",
              "    <tr>\n",
              "      <th>21609</th>\n",
              "      <td>6600060120</td>\n",
              "      <td>15 February 2016</td>\n",
              "      <td>400000.0</td>\n",
              "      <td>4</td>\n",
              "      <td>2.50</td>\n",
              "      <td>2310.0</td>\n",
              "      <td>5813.0</td>\n",
              "      <td>2.0</td>\n",
              "      <td>No</td>\n",
              "      <td>None</td>\n",
              "      <td>Fair</td>\n",
              "      <td>8</td>\n",
              "      <td>2310.0</td>\n",
              "      <td>0</td>\n",
              "      <td>4</td>\n",
              "      <td>0</td>\n",
              "      <td>98146.0</td>\n",
              "      <td>47.5107</td>\n",
              "      <td>-122.362</td>\n",
              "      <td>1830.0</td>\n",
              "      <td>7200</td>\n",
              "    </tr>\n",
              "    <tr>\n",
              "      <th>21610</th>\n",
              "      <td>1523300141</td>\n",
              "      <td>14 June 2017</td>\n",
              "      <td>402101.0</td>\n",
              "      <td>2</td>\n",
              "      <td>0.75</td>\n",
              "      <td>1020.0</td>\n",
              "      <td>1350.0</td>\n",
              "      <td>2.0</td>\n",
              "      <td>No</td>\n",
              "      <td>None</td>\n",
              "      <td>Fair</td>\n",
              "      <td>7</td>\n",
              "      <td>1020.0</td>\n",
              "      <td>0</td>\n",
              "      <td>9</td>\n",
              "      <td>0</td>\n",
              "      <td>98144.0</td>\n",
              "      <td>47.5944</td>\n",
              "      <td>-122.299</td>\n",
              "      <td>1020.0</td>\n",
              "      <td>2007</td>\n",
              "    </tr>\n",
              "    <tr>\n",
              "      <th>21611</th>\n",
              "      <td>291310100</td>\n",
              "      <td>15 January 2016</td>\n",
              "      <td>400000.0</td>\n",
              "      <td>3</td>\n",
              "      <td>2.50</td>\n",
              "      <td>1600.0</td>\n",
              "      <td>2388.0</td>\n",
              "      <td>2.0</td>\n",
              "      <td>No</td>\n",
              "      <td>None</td>\n",
              "      <td>Fair</td>\n",
              "      <td>8</td>\n",
              "      <td>1600.0</td>\n",
              "      <td>0</td>\n",
              "      <td>14</td>\n",
              "      <td>0</td>\n",
              "      <td>98027.0</td>\n",
              "      <td>47.5345</td>\n",
              "      <td>-122.069</td>\n",
              "      <td>1410.0</td>\n",
              "      <td>1287</td>\n",
              "    </tr>\n",
              "    <tr>\n",
              "      <th>21612</th>\n",
              "      <td>1523300157</td>\n",
              "      <td>14 October 2017</td>\n",
              "      <td>325000.0</td>\n",
              "      <td>2</td>\n",
              "      <td>0.75</td>\n",
              "      <td>1020.0</td>\n",
              "      <td>1076.0</td>\n",
              "      <td>2.0</td>\n",
              "      <td>No</td>\n",
              "      <td>None</td>\n",
              "      <td>Fair</td>\n",
              "      <td>7</td>\n",
              "      <td>1020.0</td>\n",
              "      <td>0</td>\n",
              "      <td>10</td>\n",
              "      <td>0</td>\n",
              "      <td>98144.0</td>\n",
              "      <td>47.5941</td>\n",
              "      <td>-122.299</td>\n",
              "      <td>1020.0</td>\n",
              "      <td>1357</td>\n",
              "    </tr>\n",
              "  </tbody>\n",
              "</table>\n",
              "<p>21613 rows × 21 columns</p>\n",
              "</div>"
            ],
            "text/plain": [
              "               ID  ... Lot Area after Renovation (in Sqft)\n",
              "0      7129300520  ...                                5650\n",
              "1      6414100192  ...                                7639\n",
              "2      5631500400  ...                                8062\n",
              "3      2487200875  ...                                5000\n",
              "4      1954400510  ...                                7503\n",
              "...           ...  ...                                 ...\n",
              "21608   263000018  ...                                1509\n",
              "21609  6600060120  ...                                7200\n",
              "21610  1523300141  ...                                2007\n",
              "21611   291310100  ...                                1287\n",
              "21612  1523300157  ...                                1357\n",
              "\n",
              "[21613 rows x 21 columns]"
            ]
          },
          "metadata": {
            "tags": []
          },
          "execution_count": 5
        }
      ]
    },
    {
      "cell_type": "markdown",
      "metadata": {
        "id": "t72UYfBeBrzb"
      },
      "source": [
        "#Exploration of Imported Data"
      ]
    },
    {
      "cell_type": "code",
      "metadata": {
        "colab": {
          "base_uri": "https://localhost:8080/"
        },
        "id": "bVg3oKtUBwK0",
        "outputId": "b4ea5fbb-c3b4-4808-89ec-88671b6443fd"
      },
      "source": [
        "Raw_Housing_Data.dtypes"
      ],
      "execution_count": null,
      "outputs": [
        {
          "output_type": "execute_result",
          "data": {
            "text/plain": [
              "ID                                             int64\n",
              "Date House was Sold                           object\n",
              "Sale Price                                   float64\n",
              "No of Bedrooms                                 int64\n",
              "No of Bathrooms                              float64\n",
              "Flat Area (in Sqft)                          float64\n",
              "Lot Area (in Sqft)                           float64\n",
              "No of Floors                                 float64\n",
              "Waterfront View                               object\n",
              "No of Times Visited                           object\n",
              "Condition of the House                        object\n",
              "Overall Grade                                  int64\n",
              "Area of the House from Basement (in Sqft)    float64\n",
              "Basement Area (in Sqft)                        int64\n",
              "Age of House (in Years)                        int64\n",
              "Renovated Year                                 int64\n",
              "Zipcode                                      float64\n",
              "Latitude                                     float64\n",
              "Longitude                                    float64\n",
              "Living Area after Renovation (in Sqft)       float64\n",
              "Lot Area after Renovation (in Sqft)            int64\n",
              "dtype: object"
            ]
          },
          "metadata": {
            "tags": []
          },
          "execution_count": 13
        }
      ]
    },
    {
      "cell_type": "code",
      "metadata": {
        "colab": {
          "base_uri": "https://localhost:8080/",
          "height": 128
        },
        "id": "Np16rZipDcM4",
        "outputId": "42cd8e83-2757-4154-a48e-c15fbfc8753b"
      },
      "source": [
        "Raw_Housing_Data.head(15)         )"
      ],
      "execution_count": null,
      "outputs": [
        {
          "output_type": "error",
          "ename": "SyntaxError",
          "evalue": "ignored",
          "traceback": [
            "\u001b[0;36m  File \u001b[0;32m\"<ipython-input-6-cba6cddc1ba8>\"\u001b[0;36m, line \u001b[0;32m1\u001b[0m\n\u001b[0;31m    Raw_Housing_Data.head(15)         )\u001b[0m\n\u001b[0m                                      ^\u001b[0m\n\u001b[0;31mSyntaxError\u001b[0m\u001b[0;31m:\u001b[0m invalid syntax\n"
          ]
        }
      ]
    },
    {
      "cell_type": "code",
      "metadata": {
        "colab": {
          "base_uri": "https://localhost:8080/",
          "height": 450
        },
        "id": "dD_awgl_DrmT",
        "outputId": "e3dca120-1070-4113-d4b8-e638b34d2108"
      },
      "source": [
        "Raw_Housing_Data.tail(5)"
      ],
      "execution_count": null,
      "outputs": [
        {
          "output_type": "execute_result",
          "data": {
            "text/html": [
              "<div>\n",
              "<style scoped>\n",
              "    .dataframe tbody tr th:only-of-type {\n",
              "        vertical-align: middle;\n",
              "    }\n",
              "\n",
              "    .dataframe tbody tr th {\n",
              "        vertical-align: top;\n",
              "    }\n",
              "\n",
              "    .dataframe thead th {\n",
              "        text-align: right;\n",
              "    }\n",
              "</style>\n",
              "<table border=\"1\" class=\"dataframe\">\n",
              "  <thead>\n",
              "    <tr style=\"text-align: right;\">\n",
              "      <th></th>\n",
              "      <th>ID</th>\n",
              "      <th>Date House was Sold</th>\n",
              "      <th>Sale Price</th>\n",
              "      <th>No of Bedrooms</th>\n",
              "      <th>No of Bathrooms</th>\n",
              "      <th>Flat Area (in Sqft)</th>\n",
              "      <th>Lot Area (in Sqft)</th>\n",
              "      <th>No of Floors</th>\n",
              "      <th>Waterfront View</th>\n",
              "      <th>No of Times Visited</th>\n",
              "      <th>Condition of the House</th>\n",
              "      <th>Overall Grade</th>\n",
              "      <th>Area of the House from Basement (in Sqft)</th>\n",
              "      <th>Basement Area (in Sqft)</th>\n",
              "      <th>Age of House (in Years)</th>\n",
              "      <th>Renovated Year</th>\n",
              "      <th>Zipcode</th>\n",
              "      <th>Latitude</th>\n",
              "      <th>Longitude</th>\n",
              "      <th>Living Area after Renovation (in Sqft)</th>\n",
              "      <th>Lot Area after Renovation (in Sqft)</th>\n",
              "    </tr>\n",
              "  </thead>\n",
              "  <tbody>\n",
              "    <tr>\n",
              "      <th>21608</th>\n",
              "      <td>263000018</td>\n",
              "      <td>14 May 2017</td>\n",
              "      <td>360000.0</td>\n",
              "      <td>3</td>\n",
              "      <td>2.50</td>\n",
              "      <td>1530.0</td>\n",
              "      <td>1131.0</td>\n",
              "      <td>3.0</td>\n",
              "      <td>No</td>\n",
              "      <td>None</td>\n",
              "      <td>Fair</td>\n",
              "      <td>8</td>\n",
              "      <td>1530.0</td>\n",
              "      <td>0</td>\n",
              "      <td>9</td>\n",
              "      <td>0</td>\n",
              "      <td>98103.0</td>\n",
              "      <td>47.6993</td>\n",
              "      <td>-122.346</td>\n",
              "      <td>1530.0</td>\n",
              "      <td>1509</td>\n",
              "    </tr>\n",
              "    <tr>\n",
              "      <th>21609</th>\n",
              "      <td>6600060120</td>\n",
              "      <td>15 February 2016</td>\n",
              "      <td>400000.0</td>\n",
              "      <td>4</td>\n",
              "      <td>2.50</td>\n",
              "      <td>2310.0</td>\n",
              "      <td>5813.0</td>\n",
              "      <td>2.0</td>\n",
              "      <td>No</td>\n",
              "      <td>None</td>\n",
              "      <td>Fair</td>\n",
              "      <td>8</td>\n",
              "      <td>2310.0</td>\n",
              "      <td>0</td>\n",
              "      <td>4</td>\n",
              "      <td>0</td>\n",
              "      <td>98146.0</td>\n",
              "      <td>47.5107</td>\n",
              "      <td>-122.362</td>\n",
              "      <td>1830.0</td>\n",
              "      <td>7200</td>\n",
              "    </tr>\n",
              "    <tr>\n",
              "      <th>21610</th>\n",
              "      <td>1523300141</td>\n",
              "      <td>14 June 2017</td>\n",
              "      <td>402101.0</td>\n",
              "      <td>2</td>\n",
              "      <td>0.75</td>\n",
              "      <td>1020.0</td>\n",
              "      <td>1350.0</td>\n",
              "      <td>2.0</td>\n",
              "      <td>No</td>\n",
              "      <td>None</td>\n",
              "      <td>Fair</td>\n",
              "      <td>7</td>\n",
              "      <td>1020.0</td>\n",
              "      <td>0</td>\n",
              "      <td>9</td>\n",
              "      <td>0</td>\n",
              "      <td>98144.0</td>\n",
              "      <td>47.5944</td>\n",
              "      <td>-122.299</td>\n",
              "      <td>1020.0</td>\n",
              "      <td>2007</td>\n",
              "    </tr>\n",
              "    <tr>\n",
              "      <th>21611</th>\n",
              "      <td>291310100</td>\n",
              "      <td>15 January 2016</td>\n",
              "      <td>400000.0</td>\n",
              "      <td>3</td>\n",
              "      <td>2.50</td>\n",
              "      <td>1600.0</td>\n",
              "      <td>2388.0</td>\n",
              "      <td>2.0</td>\n",
              "      <td>No</td>\n",
              "      <td>None</td>\n",
              "      <td>Fair</td>\n",
              "      <td>8</td>\n",
              "      <td>1600.0</td>\n",
              "      <td>0</td>\n",
              "      <td>14</td>\n",
              "      <td>0</td>\n",
              "      <td>98027.0</td>\n",
              "      <td>47.5345</td>\n",
              "      <td>-122.069</td>\n",
              "      <td>1410.0</td>\n",
              "      <td>1287</td>\n",
              "    </tr>\n",
              "    <tr>\n",
              "      <th>21612</th>\n",
              "      <td>1523300157</td>\n",
              "      <td>14 October 2017</td>\n",
              "      <td>325000.0</td>\n",
              "      <td>2</td>\n",
              "      <td>0.75</td>\n",
              "      <td>1020.0</td>\n",
              "      <td>1076.0</td>\n",
              "      <td>2.0</td>\n",
              "      <td>No</td>\n",
              "      <td>None</td>\n",
              "      <td>Fair</td>\n",
              "      <td>7</td>\n",
              "      <td>1020.0</td>\n",
              "      <td>0</td>\n",
              "      <td>10</td>\n",
              "      <td>0</td>\n",
              "      <td>98144.0</td>\n",
              "      <td>47.5941</td>\n",
              "      <td>-122.299</td>\n",
              "      <td>1020.0</td>\n",
              "      <td>1357</td>\n",
              "    </tr>\n",
              "  </tbody>\n",
              "</table>\n",
              "</div>"
            ],
            "text/plain": [
              "               ID  ... Lot Area after Renovation (in Sqft)\n",
              "21608   263000018  ...                                1509\n",
              "21609  6600060120  ...                                7200\n",
              "21610  1523300141  ...                                2007\n",
              "21611   291310100  ...                                1287\n",
              "21612  1523300157  ...                                1357\n",
              "\n",
              "[5 rows x 21 columns]"
            ]
          },
          "metadata": {
            "tags": []
          },
          "execution_count": 16
        }
      ]
    },
    {
      "cell_type": "markdown",
      "metadata": {
        "id": "Wm6-cZmcD2AO"
      },
      "source": [
        "#Descriptive Statstics of the Data"
      ]
    },
    {
      "cell_type": "code",
      "metadata": {
        "colab": {
          "base_uri": "https://localhost:8080/",
          "height": 354
        },
        "id": "uUHPbGoFD--3",
        "outputId": "76fb496b-6eca-4eac-f265-7ec98acdc753"
      },
      "source": [
        "Raw_Housing_Data.describe()  "
      ],
      "execution_count": null,
      "outputs": [
        {
          "output_type": "execute_result",
          "data": {
            "text/html": [
              "<div>\n",
              "<style scoped>\n",
              "    .dataframe tbody tr th:only-of-type {\n",
              "        vertical-align: middle;\n",
              "    }\n",
              "\n",
              "    .dataframe tbody tr th {\n",
              "        vertical-align: top;\n",
              "    }\n",
              "\n",
              "    .dataframe thead th {\n",
              "        text-align: right;\n",
              "    }\n",
              "</style>\n",
              "<table border=\"1\" class=\"dataframe\">\n",
              "  <thead>\n",
              "    <tr style=\"text-align: right;\">\n",
              "      <th></th>\n",
              "      <th>ID</th>\n",
              "      <th>Sale Price</th>\n",
              "      <th>No of Bedrooms</th>\n",
              "      <th>No of Bathrooms</th>\n",
              "      <th>Flat Area (in Sqft)</th>\n",
              "      <th>Lot Area (in Sqft)</th>\n",
              "      <th>No of Floors</th>\n",
              "      <th>Overall Grade</th>\n",
              "      <th>Area of the House from Basement (in Sqft)</th>\n",
              "      <th>Basement Area (in Sqft)</th>\n",
              "      <th>Age of House (in Years)</th>\n",
              "      <th>Renovated Year</th>\n",
              "      <th>Zipcode</th>\n",
              "      <th>Latitude</th>\n",
              "      <th>Longitude</th>\n",
              "      <th>Living Area after Renovation (in Sqft)</th>\n",
              "      <th>Lot Area after Renovation (in Sqft)</th>\n",
              "    </tr>\n",
              "  </thead>\n",
              "  <tbody>\n",
              "    <tr>\n",
              "      <th>count</th>\n",
              "      <td>2.161300e+04</td>\n",
              "      <td>2.160900e+04</td>\n",
              "      <td>21613.000000</td>\n",
              "      <td>21609.000000</td>\n",
              "      <td>21604.000000</td>\n",
              "      <td>2.160400e+04</td>\n",
              "      <td>21613.000000</td>\n",
              "      <td>21613.000000</td>\n",
              "      <td>21610.000000</td>\n",
              "      <td>21613.000000</td>\n",
              "      <td>21613.000000</td>\n",
              "      <td>21613.000000</td>\n",
              "      <td>21612.000000</td>\n",
              "      <td>21612.000000</td>\n",
              "      <td>21612.000000</td>\n",
              "      <td>21612.000000</td>\n",
              "      <td>21613.000000</td>\n",
              "    </tr>\n",
              "    <tr>\n",
              "      <th>mean</th>\n",
              "      <td>4.580302e+09</td>\n",
              "      <td>5.401984e+05</td>\n",
              "      <td>3.370842</td>\n",
              "      <td>2.114732</td>\n",
              "      <td>2079.931772</td>\n",
              "      <td>1.510776e+04</td>\n",
              "      <td>1.494309</td>\n",
              "      <td>7.623467</td>\n",
              "      <td>1788.344193</td>\n",
              "      <td>291.509045</td>\n",
              "      <td>46.994864</td>\n",
              "      <td>84.402258</td>\n",
              "      <td>98077.937766</td>\n",
              "      <td>47.560048</td>\n",
              "      <td>-122.213892</td>\n",
              "      <td>1986.538914</td>\n",
              "      <td>12768.455652</td>\n",
              "    </tr>\n",
              "    <tr>\n",
              "      <th>std</th>\n",
              "      <td>2.876566e+09</td>\n",
              "      <td>3.673890e+05</td>\n",
              "      <td>0.930062</td>\n",
              "      <td>0.770138</td>\n",
              "      <td>918.487597</td>\n",
              "      <td>4.142827e+04</td>\n",
              "      <td>0.539989</td>\n",
              "      <td>1.105439</td>\n",
              "      <td>827.982604</td>\n",
              "      <td>442.575043</td>\n",
              "      <td>29.373411</td>\n",
              "      <td>401.679240</td>\n",
              "      <td>53.505425</td>\n",
              "      <td>0.138565</td>\n",
              "      <td>0.140830</td>\n",
              "      <td>685.404255</td>\n",
              "      <td>27304.179631</td>\n",
              "    </tr>\n",
              "    <tr>\n",
              "      <th>min</th>\n",
              "      <td>1.000102e+06</td>\n",
              "      <td>7.500000e+04</td>\n",
              "      <td>0.000000</td>\n",
              "      <td>0.000000</td>\n",
              "      <td>290.000000</td>\n",
              "      <td>5.200000e+02</td>\n",
              "      <td>1.000000</td>\n",
              "      <td>1.000000</td>\n",
              "      <td>290.000000</td>\n",
              "      <td>0.000000</td>\n",
              "      <td>3.000000</td>\n",
              "      <td>0.000000</td>\n",
              "      <td>98001.000000</td>\n",
              "      <td>47.155900</td>\n",
              "      <td>-122.519000</td>\n",
              "      <td>399.000000</td>\n",
              "      <td>651.000000</td>\n",
              "    </tr>\n",
              "    <tr>\n",
              "      <th>25%</th>\n",
              "      <td>2.123049e+09</td>\n",
              "      <td>3.219500e+05</td>\n",
              "      <td>3.000000</td>\n",
              "      <td>1.750000</td>\n",
              "      <td>1429.250000</td>\n",
              "      <td>5.040000e+03</td>\n",
              "      <td>1.000000</td>\n",
              "      <td>7.000000</td>\n",
              "      <td>1190.000000</td>\n",
              "      <td>0.000000</td>\n",
              "      <td>21.000000</td>\n",
              "      <td>0.000000</td>\n",
              "      <td>98033.000000</td>\n",
              "      <td>47.470975</td>\n",
              "      <td>-122.328000</td>\n",
              "      <td>1490.000000</td>\n",
              "      <td>5100.000000</td>\n",
              "    </tr>\n",
              "    <tr>\n",
              "      <th>50%</th>\n",
              "      <td>3.904930e+09</td>\n",
              "      <td>4.500000e+05</td>\n",
              "      <td>3.000000</td>\n",
              "      <td>2.250000</td>\n",
              "      <td>1910.000000</td>\n",
              "      <td>7.617500e+03</td>\n",
              "      <td>1.500000</td>\n",
              "      <td>7.000000</td>\n",
              "      <td>1560.000000</td>\n",
              "      <td>0.000000</td>\n",
              "      <td>43.000000</td>\n",
              "      <td>0.000000</td>\n",
              "      <td>98065.000000</td>\n",
              "      <td>47.571800</td>\n",
              "      <td>-122.230000</td>\n",
              "      <td>1840.000000</td>\n",
              "      <td>7620.000000</td>\n",
              "    </tr>\n",
              "    <tr>\n",
              "      <th>75%</th>\n",
              "      <td>7.308900e+09</td>\n",
              "      <td>6.450000e+05</td>\n",
              "      <td>4.000000</td>\n",
              "      <td>2.500000</td>\n",
              "      <td>2550.000000</td>\n",
              "      <td>1.068825e+04</td>\n",
              "      <td>2.000000</td>\n",
              "      <td>8.000000</td>\n",
              "      <td>2210.000000</td>\n",
              "      <td>560.000000</td>\n",
              "      <td>67.000000</td>\n",
              "      <td>0.000000</td>\n",
              "      <td>98118.000000</td>\n",
              "      <td>47.678000</td>\n",
              "      <td>-122.125000</td>\n",
              "      <td>2360.000000</td>\n",
              "      <td>10083.000000</td>\n",
              "    </tr>\n",
              "    <tr>\n",
              "      <th>max</th>\n",
              "      <td>9.900000e+09</td>\n",
              "      <td>7.700000e+06</td>\n",
              "      <td>33.000000</td>\n",
              "      <td>8.000000</td>\n",
              "      <td>13540.000000</td>\n",
              "      <td>1.651359e+06</td>\n",
              "      <td>3.500000</td>\n",
              "      <td>10.000000</td>\n",
              "      <td>9410.000000</td>\n",
              "      <td>4820.000000</td>\n",
              "      <td>118.000000</td>\n",
              "      <td>2015.000000</td>\n",
              "      <td>98199.000000</td>\n",
              "      <td>47.777600</td>\n",
              "      <td>-121.315000</td>\n",
              "      <td>6210.000000</td>\n",
              "      <td>871200.000000</td>\n",
              "    </tr>\n",
              "  </tbody>\n",
              "</table>\n",
              "</div>"
            ],
            "text/plain": [
              "                 ID  ...  Lot Area after Renovation (in Sqft)\n",
              "count  2.161300e+04  ...                         21613.000000\n",
              "mean   4.580302e+09  ...                         12768.455652\n",
              "std    2.876566e+09  ...                         27304.179631\n",
              "min    1.000102e+06  ...                           651.000000\n",
              "25%    2.123049e+09  ...                          5100.000000\n",
              "50%    3.904930e+09  ...                          7620.000000\n",
              "75%    7.308900e+09  ...                         10083.000000\n",
              "max    9.900000e+09  ...                        871200.000000\n",
              "\n",
              "[8 rows x 17 columns]"
            ]
          },
          "metadata": {
            "tags": []
          },
          "execution_count": 7
        }
      ]
    },
    {
      "cell_type": "code",
      "metadata": {
        "colab": {
          "base_uri": "https://localhost:8080/",
          "height": 477
        },
        "id": "EK8b1SrzGfZ-",
        "outputId": "34d0035a-7302-44f0-b655-a1835c5f1256"
      },
      "source": [
        "Raw_Housing_Data.describe(include = \"all\")"
      ],
      "execution_count": null,
      "outputs": [
        {
          "output_type": "execute_result",
          "data": {
            "text/html": [
              "<div>\n",
              "<style scoped>\n",
              "    .dataframe tbody tr th:only-of-type {\n",
              "        vertical-align: middle;\n",
              "    }\n",
              "\n",
              "    .dataframe tbody tr th {\n",
              "        vertical-align: top;\n",
              "    }\n",
              "\n",
              "    .dataframe thead th {\n",
              "        text-align: right;\n",
              "    }\n",
              "</style>\n",
              "<table border=\"1\" class=\"dataframe\">\n",
              "  <thead>\n",
              "    <tr style=\"text-align: right;\">\n",
              "      <th></th>\n",
              "      <th>ID</th>\n",
              "      <th>Date House was Sold</th>\n",
              "      <th>Sale Price</th>\n",
              "      <th>No of Bedrooms</th>\n",
              "      <th>No of Bathrooms</th>\n",
              "      <th>Flat Area (in Sqft)</th>\n",
              "      <th>Lot Area (in Sqft)</th>\n",
              "      <th>No of Floors</th>\n",
              "      <th>Waterfront View</th>\n",
              "      <th>No of Times Visited</th>\n",
              "      <th>Condition of the House</th>\n",
              "      <th>Overall Grade</th>\n",
              "      <th>Area of the House from Basement (in Sqft)</th>\n",
              "      <th>Basement Area (in Sqft)</th>\n",
              "      <th>Age of House (in Years)</th>\n",
              "      <th>Renovated Year</th>\n",
              "      <th>Zipcode</th>\n",
              "      <th>Latitude</th>\n",
              "      <th>Longitude</th>\n",
              "      <th>Living Area after Renovation (in Sqft)</th>\n",
              "      <th>Lot Area after Renovation (in Sqft)</th>\n",
              "    </tr>\n",
              "  </thead>\n",
              "  <tbody>\n",
              "    <tr>\n",
              "      <th>count</th>\n",
              "      <td>2.161300e+04</td>\n",
              "      <td>21613</td>\n",
              "      <td>2.160900e+04</td>\n",
              "      <td>21613.000000</td>\n",
              "      <td>21609.000000</td>\n",
              "      <td>21604.000000</td>\n",
              "      <td>2.160400e+04</td>\n",
              "      <td>21613.000000</td>\n",
              "      <td>21613</td>\n",
              "      <td>21613</td>\n",
              "      <td>21613</td>\n",
              "      <td>21613.000000</td>\n",
              "      <td>21610.000000</td>\n",
              "      <td>21613.000000</td>\n",
              "      <td>21613.000000</td>\n",
              "      <td>21613.000000</td>\n",
              "      <td>21612.000000</td>\n",
              "      <td>21612.000000</td>\n",
              "      <td>21612.000000</td>\n",
              "      <td>21612.000000</td>\n",
              "      <td>21613.000000</td>\n",
              "    </tr>\n",
              "    <tr>\n",
              "      <th>unique</th>\n",
              "      <td>NaN</td>\n",
              "      <td>13</td>\n",
              "      <td>NaN</td>\n",
              "      <td>NaN</td>\n",
              "      <td>NaN</td>\n",
              "      <td>NaN</td>\n",
              "      <td>NaN</td>\n",
              "      <td>NaN</td>\n",
              "      <td>2</td>\n",
              "      <td>5</td>\n",
              "      <td>5</td>\n",
              "      <td>NaN</td>\n",
              "      <td>NaN</td>\n",
              "      <td>NaN</td>\n",
              "      <td>NaN</td>\n",
              "      <td>NaN</td>\n",
              "      <td>NaN</td>\n",
              "      <td>NaN</td>\n",
              "      <td>NaN</td>\n",
              "      <td>NaN</td>\n",
              "      <td>NaN</td>\n",
              "    </tr>\n",
              "    <tr>\n",
              "      <th>top</th>\n",
              "      <td>NaN</td>\n",
              "      <td>15 April 2016</td>\n",
              "      <td>NaN</td>\n",
              "      <td>NaN</td>\n",
              "      <td>NaN</td>\n",
              "      <td>NaN</td>\n",
              "      <td>NaN</td>\n",
              "      <td>NaN</td>\n",
              "      <td>No</td>\n",
              "      <td>None</td>\n",
              "      <td>Fair</td>\n",
              "      <td>NaN</td>\n",
              "      <td>NaN</td>\n",
              "      <td>NaN</td>\n",
              "      <td>NaN</td>\n",
              "      <td>NaN</td>\n",
              "      <td>NaN</td>\n",
              "      <td>NaN</td>\n",
              "      <td>NaN</td>\n",
              "      <td>NaN</td>\n",
              "      <td>NaN</td>\n",
              "    </tr>\n",
              "    <tr>\n",
              "      <th>freq</th>\n",
              "      <td>NaN</td>\n",
              "      <td>2231</td>\n",
              "      <td>NaN</td>\n",
              "      <td>NaN</td>\n",
              "      <td>NaN</td>\n",
              "      <td>NaN</td>\n",
              "      <td>NaN</td>\n",
              "      <td>NaN</td>\n",
              "      <td>21450</td>\n",
              "      <td>19489</td>\n",
              "      <td>14031</td>\n",
              "      <td>NaN</td>\n",
              "      <td>NaN</td>\n",
              "      <td>NaN</td>\n",
              "      <td>NaN</td>\n",
              "      <td>NaN</td>\n",
              "      <td>NaN</td>\n",
              "      <td>NaN</td>\n",
              "      <td>NaN</td>\n",
              "      <td>NaN</td>\n",
              "      <td>NaN</td>\n",
              "    </tr>\n",
              "    <tr>\n",
              "      <th>mean</th>\n",
              "      <td>4.580302e+09</td>\n",
              "      <td>NaN</td>\n",
              "      <td>5.401984e+05</td>\n",
              "      <td>3.370842</td>\n",
              "      <td>2.114732</td>\n",
              "      <td>2079.931772</td>\n",
              "      <td>1.510776e+04</td>\n",
              "      <td>1.494309</td>\n",
              "      <td>NaN</td>\n",
              "      <td>NaN</td>\n",
              "      <td>NaN</td>\n",
              "      <td>7.623467</td>\n",
              "      <td>1788.344193</td>\n",
              "      <td>291.509045</td>\n",
              "      <td>46.994864</td>\n",
              "      <td>84.402258</td>\n",
              "      <td>98077.937766</td>\n",
              "      <td>47.560048</td>\n",
              "      <td>-122.213892</td>\n",
              "      <td>1986.538914</td>\n",
              "      <td>12768.455652</td>\n",
              "    </tr>\n",
              "    <tr>\n",
              "      <th>std</th>\n",
              "      <td>2.876566e+09</td>\n",
              "      <td>NaN</td>\n",
              "      <td>3.673890e+05</td>\n",
              "      <td>0.930062</td>\n",
              "      <td>0.770138</td>\n",
              "      <td>918.487597</td>\n",
              "      <td>4.142827e+04</td>\n",
              "      <td>0.539989</td>\n",
              "      <td>NaN</td>\n",
              "      <td>NaN</td>\n",
              "      <td>NaN</td>\n",
              "      <td>1.105439</td>\n",
              "      <td>827.982604</td>\n",
              "      <td>442.575043</td>\n",
              "      <td>29.373411</td>\n",
              "      <td>401.679240</td>\n",
              "      <td>53.505425</td>\n",
              "      <td>0.138565</td>\n",
              "      <td>0.140830</td>\n",
              "      <td>685.404255</td>\n",
              "      <td>27304.179631</td>\n",
              "    </tr>\n",
              "    <tr>\n",
              "      <th>min</th>\n",
              "      <td>1.000102e+06</td>\n",
              "      <td>NaN</td>\n",
              "      <td>7.500000e+04</td>\n",
              "      <td>0.000000</td>\n",
              "      <td>0.000000</td>\n",
              "      <td>290.000000</td>\n",
              "      <td>5.200000e+02</td>\n",
              "      <td>1.000000</td>\n",
              "      <td>NaN</td>\n",
              "      <td>NaN</td>\n",
              "      <td>NaN</td>\n",
              "      <td>1.000000</td>\n",
              "      <td>290.000000</td>\n",
              "      <td>0.000000</td>\n",
              "      <td>3.000000</td>\n",
              "      <td>0.000000</td>\n",
              "      <td>98001.000000</td>\n",
              "      <td>47.155900</td>\n",
              "      <td>-122.519000</td>\n",
              "      <td>399.000000</td>\n",
              "      <td>651.000000</td>\n",
              "    </tr>\n",
              "    <tr>\n",
              "      <th>25%</th>\n",
              "      <td>2.123049e+09</td>\n",
              "      <td>NaN</td>\n",
              "      <td>3.219500e+05</td>\n",
              "      <td>3.000000</td>\n",
              "      <td>1.750000</td>\n",
              "      <td>1429.250000</td>\n",
              "      <td>5.040000e+03</td>\n",
              "      <td>1.000000</td>\n",
              "      <td>NaN</td>\n",
              "      <td>NaN</td>\n",
              "      <td>NaN</td>\n",
              "      <td>7.000000</td>\n",
              "      <td>1190.000000</td>\n",
              "      <td>0.000000</td>\n",
              "      <td>21.000000</td>\n",
              "      <td>0.000000</td>\n",
              "      <td>98033.000000</td>\n",
              "      <td>47.470975</td>\n",
              "      <td>-122.328000</td>\n",
              "      <td>1490.000000</td>\n",
              "      <td>5100.000000</td>\n",
              "    </tr>\n",
              "    <tr>\n",
              "      <th>50%</th>\n",
              "      <td>3.904930e+09</td>\n",
              "      <td>NaN</td>\n",
              "      <td>4.500000e+05</td>\n",
              "      <td>3.000000</td>\n",
              "      <td>2.250000</td>\n",
              "      <td>1910.000000</td>\n",
              "      <td>7.617500e+03</td>\n",
              "      <td>1.500000</td>\n",
              "      <td>NaN</td>\n",
              "      <td>NaN</td>\n",
              "      <td>NaN</td>\n",
              "      <td>7.000000</td>\n",
              "      <td>1560.000000</td>\n",
              "      <td>0.000000</td>\n",
              "      <td>43.000000</td>\n",
              "      <td>0.000000</td>\n",
              "      <td>98065.000000</td>\n",
              "      <td>47.571800</td>\n",
              "      <td>-122.230000</td>\n",
              "      <td>1840.000000</td>\n",
              "      <td>7620.000000</td>\n",
              "    </tr>\n",
              "    <tr>\n",
              "      <th>75%</th>\n",
              "      <td>7.308900e+09</td>\n",
              "      <td>NaN</td>\n",
              "      <td>6.450000e+05</td>\n",
              "      <td>4.000000</td>\n",
              "      <td>2.500000</td>\n",
              "      <td>2550.000000</td>\n",
              "      <td>1.068825e+04</td>\n",
              "      <td>2.000000</td>\n",
              "      <td>NaN</td>\n",
              "      <td>NaN</td>\n",
              "      <td>NaN</td>\n",
              "      <td>8.000000</td>\n",
              "      <td>2210.000000</td>\n",
              "      <td>560.000000</td>\n",
              "      <td>67.000000</td>\n",
              "      <td>0.000000</td>\n",
              "      <td>98118.000000</td>\n",
              "      <td>47.678000</td>\n",
              "      <td>-122.125000</td>\n",
              "      <td>2360.000000</td>\n",
              "      <td>10083.000000</td>\n",
              "    </tr>\n",
              "    <tr>\n",
              "      <th>max</th>\n",
              "      <td>9.900000e+09</td>\n",
              "      <td>NaN</td>\n",
              "      <td>7.700000e+06</td>\n",
              "      <td>33.000000</td>\n",
              "      <td>8.000000</td>\n",
              "      <td>13540.000000</td>\n",
              "      <td>1.651359e+06</td>\n",
              "      <td>3.500000</td>\n",
              "      <td>NaN</td>\n",
              "      <td>NaN</td>\n",
              "      <td>NaN</td>\n",
              "      <td>10.000000</td>\n",
              "      <td>9410.000000</td>\n",
              "      <td>4820.000000</td>\n",
              "      <td>118.000000</td>\n",
              "      <td>2015.000000</td>\n",
              "      <td>98199.000000</td>\n",
              "      <td>47.777600</td>\n",
              "      <td>-121.315000</td>\n",
              "      <td>6210.000000</td>\n",
              "      <td>871200.000000</td>\n",
              "    </tr>\n",
              "  </tbody>\n",
              "</table>\n",
              "</div>"
            ],
            "text/plain": [
              "                  ID  ... Lot Area after Renovation (in Sqft)\n",
              "count   2.161300e+04  ...                        21613.000000\n",
              "unique           NaN  ...                                 NaN\n",
              "top              NaN  ...                                 NaN\n",
              "freq             NaN  ...                                 NaN\n",
              "mean    4.580302e+09  ...                        12768.455652\n",
              "std     2.876566e+09  ...                        27304.179631\n",
              "min     1.000102e+06  ...                          651.000000\n",
              "25%     2.123049e+09  ...                         5100.000000\n",
              "50%     3.904930e+09  ...                         7620.000000\n",
              "75%     7.308900e+09  ...                        10083.000000\n",
              "max     9.900000e+09  ...                       871200.000000\n",
              "\n",
              "[11 rows x 21 columns]"
            ]
          },
          "metadata": {
            "tags": []
          },
          "execution_count": 18
        }
      ]
    },
    {
      "cell_type": "code",
      "metadata": {
        "colab": {
          "base_uri": "https://localhost:8080/"
        },
        "id": "_B5kzsV6G9z1",
        "outputId": "1e4687c1-456c-4df5-c109-f07004439814"
      },
      "source": [
        "Raw_Housing_Data.info()"
      ],
      "execution_count": null,
      "outputs": [
        {
          "output_type": "stream",
          "text": [
            "<class 'pandas.core.frame.DataFrame'>\n",
            "RangeIndex: 21613 entries, 0 to 21612\n",
            "Data columns (total 21 columns):\n",
            " #   Column                                     Non-Null Count  Dtype  \n",
            "---  ------                                     --------------  -----  \n",
            " 0   ID                                         21613 non-null  int64  \n",
            " 1   Date House was Sold                        21613 non-null  object \n",
            " 2   Sale Price                                 21609 non-null  float64\n",
            " 3   No of Bedrooms                             21613 non-null  int64  \n",
            " 4   No of Bathrooms                            21609 non-null  float64\n",
            " 5   Flat Area (in Sqft)                        21604 non-null  float64\n",
            " 6   Lot Area (in Sqft)                         21604 non-null  float64\n",
            " 7   No of Floors                               21613 non-null  float64\n",
            " 8   Waterfront View                            21613 non-null  object \n",
            " 9   No of Times Visited                        21613 non-null  object \n",
            " 10  Condition of the House                     21613 non-null  object \n",
            " 11  Overall Grade                              21613 non-null  int64  \n",
            " 12  Area of the House from Basement (in Sqft)  21610 non-null  float64\n",
            " 13  Basement Area (in Sqft)                    21613 non-null  int64  \n",
            " 14  Age of House (in Years)                    21613 non-null  int64  \n",
            " 15  Renovated Year                             21613 non-null  int64  \n",
            " 16  Zipcode                                    21612 non-null  float64\n",
            " 17  Latitude                                   21612 non-null  float64\n",
            " 18  Longitude                                  21612 non-null  float64\n",
            " 19  Living Area after Renovation (in Sqft)     21612 non-null  float64\n",
            " 20  Lot Area after Renovation (in Sqft)        21613 non-null  int64  \n",
            "dtypes: float64(10), int64(7), object(4)\n",
            "memory usage: 3.5+ MB\n"
          ],
          "name": "stdout"
        }
      ]
    },
    {
      "cell_type": "code",
      "metadata": {
        "colab": {
          "base_uri": "https://localhost:8080/"
        },
        "id": "w8P4L_x4HYkt",
        "outputId": "35f4eed4-5ee1-4e78-a4ed-1ff98ccfc512"
      },
      "source": [
        "Raw_Housing_Data[\"Sale Price\"].mean()"
      ],
      "execution_count": null,
      "outputs": [
        {
          "output_type": "execute_result",
          "data": {
            "text/plain": [
              "540198.4357443658"
            ]
          },
          "metadata": {
            "tags": []
          },
          "execution_count": 20
        }
      ]
    },
    {
      "cell_type": "code",
      "metadata": {
        "colab": {
          "base_uri": "https://localhost:8080/"
        },
        "id": "78ER8rwuHvNN",
        "outputId": "9fe1204e-ae4d-40db-c780-74b58f72eab2"
      },
      "source": [
        "Raw_Housing_Data['Sale Price'].std()"
      ],
      "execution_count": null,
      "outputs": [
        {
          "output_type": "execute_result",
          "data": {
            "text/plain": [
              "367388.99446065375"
            ]
          },
          "metadata": {
            "tags": []
          },
          "execution_count": 21
        }
      ]
    },
    {
      "cell_type": "code",
      "metadata": {
        "colab": {
          "base_uri": "https://localhost:8080/"
        },
        "id": "clsq-z5_H5-R",
        "outputId": "eef840b8-c6e3-4e97-e06b-63e63765a8ec"
      },
      "source": [
        "Raw_Housing_Data['Sale Price'].max()"
      ],
      "execution_count": null,
      "outputs": [
        {
          "output_type": "execute_result",
          "data": {
            "text/plain": [
              "7700000.0"
            ]
          },
          "metadata": {
            "tags": []
          },
          "execution_count": 22
        }
      ]
    },
    {
      "cell_type": "code",
      "metadata": {
        "colab": {
          "base_uri": "https://localhost:8080/"
        },
        "id": "viv_-QQrH888",
        "outputId": "4913b24e-797d-468d-f2b0-9fc33222bc08"
      },
      "source": [
        "Raw_Housing_Data['Sale Price'].min()"
      ],
      "execution_count": null,
      "outputs": [
        {
          "output_type": "execute_result",
          "data": {
            "text/plain": [
              "75000.0"
            ]
          },
          "metadata": {
            "tags": []
          },
          "execution_count": 23
        }
      ]
    },
    {
      "cell_type": "code",
      "metadata": {
        "colab": {
          "base_uri": "https://localhost:8080/"
        },
        "id": "VYnpMb2dIAFD",
        "outputId": "a9faaed1-f78a-43a6-ce17-9c9b980a9e73"
      },
      "source": [
        "Raw_Housing_Data['Sale Price'].quantile(1)"
      ],
      "execution_count": null,
      "outputs": [
        {
          "output_type": "execute_result",
          "data": {
            "text/plain": [
              "7700000.0"
            ]
          },
          "metadata": {
            "tags": []
          },
          "execution_count": 12
        }
      ]
    },
    {
      "cell_type": "code",
      "metadata": {
        "colab": {
          "base_uri": "https://localhost:8080/"
        },
        "id": "SbVn4EpyIILe",
        "outputId": "e4eb36b2-2b88-428f-a40b-8ed4834ccd0f"
      },
      "source": [
        "Raw_Housing_Data['Condition of the House'].unique()"
      ],
      "execution_count": null,
      "outputs": [
        {
          "output_type": "execute_result",
          "data": {
            "text/plain": [
              "array(['Fair', 'Excellent', 'Good', 'Bad', 'Okay'], dtype=object)"
            ]
          },
          "metadata": {
            "tags": []
          },
          "execution_count": 5
        }
      ]
    },
    {
      "cell_type": "markdown",
      "metadata": {
        "id": "-6G8uOuFIkUG"
      },
      "source": [
        "# Descriptive Statstics Using Numpy Lib"
      ]
    },
    {
      "cell_type": "code",
      "metadata": {
        "id": "HXbRw3xdIswa"
      },
      "source": [
        "import numpy as np"
      ],
      "execution_count": null,
      "outputs": []
    },
    {
      "cell_type": "code",
      "metadata": {
        "colab": {
          "base_uri": "https://localhost:8080/"
        },
        "id": "i-wxo_cHI9Cv",
        "outputId": "33e8fe36-d3bc-4e68-ee08-dc31ad889718"
      },
      "source": [
        "np.std(Raw_Housing_Data['Sale Price'])"
      ],
      "execution_count": null,
      "outputs": [
        {
          "output_type": "execute_result",
          "data": {
            "text/plain": [
              "367380.4935294451"
            ]
          },
          "metadata": {
            "tags": []
          },
          "execution_count": 6
        }
      ]
    },
    {
      "cell_type": "code",
      "metadata": {
        "colab": {
          "base_uri": "https://localhost:8080/"
        },
        "id": "NMFriJaeJRgE",
        "outputId": "6c10bfb6-0050-4729-fc71-e778d18013e5"
      },
      "source": [
        "Raw_Housing_Data['Sale Price'].std() - np.std(Raw_Housing_Data['Sale Price'])"
      ],
      "execution_count": null,
      "outputs": [
        {
          "output_type": "execute_result",
          "data": {
            "text/plain": [
              "8.500931208662223"
            ]
          },
          "metadata": {
            "tags": []
          },
          "execution_count": 34
        }
      ]
    },
    {
      "cell_type": "code",
      "metadata": {
        "colab": {
          "base_uri": "https://localhost:8080/"
        },
        "id": "skIPdLBHJjT6",
        "outputId": "5619e024-a58a-40e7-d9b0-9d037e239991"
      },
      "source": [
        " np.std(Raw_Housing_Data['Sale Price'],ddof = 1)"
      ],
      "execution_count": null,
      "outputs": [
        {
          "output_type": "execute_result",
          "data": {
            "text/plain": [
              "367388.99446065375"
            ]
          },
          "metadata": {
            "tags": []
          },
          "execution_count": 35
        }
      ]
    },
    {
      "cell_type": "code",
      "metadata": {
        "colab": {
          "base_uri": "https://localhost:8080/"
        },
        "id": "YnuYLQtkLiHT",
        "outputId": "29c67eaa-d175-4f18-c0bf-d4a913590f57"
      },
      "source": [
        "Raw_Housing_Data['Sale Price'].std()"
      ],
      "execution_count": null,
      "outputs": [
        {
          "output_type": "execute_result",
          "data": {
            "text/plain": [
              "367388.99446065375"
            ]
          },
          "metadata": {
            "tags": []
          },
          "execution_count": 7
        }
      ]
    },
    {
      "cell_type": "code",
      "metadata": {
        "id": "XqfWnv_gMLB5"
      },
      "source": [
        "import pandas as pd\n",
        "import numpy as np\n",
        "import matplotlib.pyplot as plt\n"
      ],
      "execution_count": null,
      "outputs": []
    },
    {
      "cell_type": "code",
      "metadata": {
        "id": "qIP7GMiNMk56"
      },
      "source": [
        "dir(plt)"
      ],
      "execution_count": null,
      "outputs": []
    },
    {
      "cell_type": "markdown",
      "metadata": {
        "id": "pzdwcEtcMwnw"
      },
      "source": [
        "# Plotting of graphs"
      ]
    },
    {
      "cell_type": "code",
      "metadata": {
        "id": "Kwr3gX2WM0PL",
        "colab": {
          "base_uri": "https://localhost:8080/",
          "height": 825
        },
        "outputId": "7986966e-0c8f-4163-f71f-e6b05046d893"
      },
      "source": [
        " Raw_Housing_Data"
      ],
      "execution_count": null,
      "outputs": [
        {
          "output_type": "execute_result",
          "data": {
            "text/html": [
              "<div>\n",
              "<style scoped>\n",
              "    .dataframe tbody tr th:only-of-type {\n",
              "        vertical-align: middle;\n",
              "    }\n",
              "\n",
              "    .dataframe tbody tr th {\n",
              "        vertical-align: top;\n",
              "    }\n",
              "\n",
              "    .dataframe thead th {\n",
              "        text-align: right;\n",
              "    }\n",
              "</style>\n",
              "<table border=\"1\" class=\"dataframe\">\n",
              "  <thead>\n",
              "    <tr style=\"text-align: right;\">\n",
              "      <th></th>\n",
              "      <th>ID</th>\n",
              "      <th>Date House was Sold</th>\n",
              "      <th>Sale Price</th>\n",
              "      <th>No of Bedrooms</th>\n",
              "      <th>No of Bathrooms</th>\n",
              "      <th>Flat Area (in Sqft)</th>\n",
              "      <th>Lot Area (in Sqft)</th>\n",
              "      <th>No of Floors</th>\n",
              "      <th>Waterfront View</th>\n",
              "      <th>No of Times Visited</th>\n",
              "      <th>Condition of the House</th>\n",
              "      <th>Overall Grade</th>\n",
              "      <th>Area of the House from Basement (in Sqft)</th>\n",
              "      <th>Basement Area (in Sqft)</th>\n",
              "      <th>Age of House (in Years)</th>\n",
              "      <th>Renovated Year</th>\n",
              "      <th>Zipcode</th>\n",
              "      <th>Latitude</th>\n",
              "      <th>Longitude</th>\n",
              "      <th>Living Area after Renovation (in Sqft)</th>\n",
              "      <th>Lot Area after Renovation (in Sqft)</th>\n",
              "    </tr>\n",
              "  </thead>\n",
              "  <tbody>\n",
              "    <tr>\n",
              "      <th>0</th>\n",
              "      <td>7129300520</td>\n",
              "      <td>14 October 2017</td>\n",
              "      <td>221900.0</td>\n",
              "      <td>3</td>\n",
              "      <td>1.00</td>\n",
              "      <td>1180.0</td>\n",
              "      <td>5650.0</td>\n",
              "      <td>1.0</td>\n",
              "      <td>No</td>\n",
              "      <td>None</td>\n",
              "      <td>Fair</td>\n",
              "      <td>7</td>\n",
              "      <td>1180.0</td>\n",
              "      <td>0</td>\n",
              "      <td>63</td>\n",
              "      <td>0</td>\n",
              "      <td>98178.0</td>\n",
              "      <td>47.5112</td>\n",
              "      <td>-122.257</td>\n",
              "      <td>1340.0</td>\n",
              "      <td>5650</td>\n",
              "    </tr>\n",
              "    <tr>\n",
              "      <th>1</th>\n",
              "      <td>6414100192</td>\n",
              "      <td>14 December 2017</td>\n",
              "      <td>538000.0</td>\n",
              "      <td>3</td>\n",
              "      <td>2.25</td>\n",
              "      <td>2570.0</td>\n",
              "      <td>7242.0</td>\n",
              "      <td>2.0</td>\n",
              "      <td>No</td>\n",
              "      <td>None</td>\n",
              "      <td>Fair</td>\n",
              "      <td>7</td>\n",
              "      <td>2170.0</td>\n",
              "      <td>400</td>\n",
              "      <td>67</td>\n",
              "      <td>1991</td>\n",
              "      <td>98125.0</td>\n",
              "      <td>47.7210</td>\n",
              "      <td>-122.319</td>\n",
              "      <td>1690.0</td>\n",
              "      <td>7639</td>\n",
              "    </tr>\n",
              "    <tr>\n",
              "      <th>2</th>\n",
              "      <td>5631500400</td>\n",
              "      <td>15 February 2016</td>\n",
              "      <td>180000.0</td>\n",
              "      <td>2</td>\n",
              "      <td>1.00</td>\n",
              "      <td>770.0</td>\n",
              "      <td>10000.0</td>\n",
              "      <td>1.0</td>\n",
              "      <td>No</td>\n",
              "      <td>None</td>\n",
              "      <td>Fair</td>\n",
              "      <td>6</td>\n",
              "      <td>770.0</td>\n",
              "      <td>0</td>\n",
              "      <td>85</td>\n",
              "      <td>0</td>\n",
              "      <td>98028.0</td>\n",
              "      <td>47.7379</td>\n",
              "      <td>-122.233</td>\n",
              "      <td>2720.0</td>\n",
              "      <td>8062</td>\n",
              "    </tr>\n",
              "    <tr>\n",
              "      <th>3</th>\n",
              "      <td>2487200875</td>\n",
              "      <td>14 December 2017</td>\n",
              "      <td>604000.0</td>\n",
              "      <td>4</td>\n",
              "      <td>3.00</td>\n",
              "      <td>1960.0</td>\n",
              "      <td>5000.0</td>\n",
              "      <td>1.0</td>\n",
              "      <td>No</td>\n",
              "      <td>None</td>\n",
              "      <td>Excellent</td>\n",
              "      <td>7</td>\n",
              "      <td>1050.0</td>\n",
              "      <td>910</td>\n",
              "      <td>53</td>\n",
              "      <td>0</td>\n",
              "      <td>98136.0</td>\n",
              "      <td>47.5208</td>\n",
              "      <td>-122.393</td>\n",
              "      <td>1360.0</td>\n",
              "      <td>5000</td>\n",
              "    </tr>\n",
              "    <tr>\n",
              "      <th>4</th>\n",
              "      <td>1954400510</td>\n",
              "      <td>15 February 2016</td>\n",
              "      <td>510000.0</td>\n",
              "      <td>3</td>\n",
              "      <td>2.00</td>\n",
              "      <td>1680.0</td>\n",
              "      <td>8080.0</td>\n",
              "      <td>1.0</td>\n",
              "      <td>No</td>\n",
              "      <td>None</td>\n",
              "      <td>Fair</td>\n",
              "      <td>8</td>\n",
              "      <td>1680.0</td>\n",
              "      <td>0</td>\n",
              "      <td>31</td>\n",
              "      <td>0</td>\n",
              "      <td>98074.0</td>\n",
              "      <td>47.6168</td>\n",
              "      <td>-122.045</td>\n",
              "      <td>1800.0</td>\n",
              "      <td>7503</td>\n",
              "    </tr>\n",
              "    <tr>\n",
              "      <th>...</th>\n",
              "      <td>...</td>\n",
              "      <td>...</td>\n",
              "      <td>...</td>\n",
              "      <td>...</td>\n",
              "      <td>...</td>\n",
              "      <td>...</td>\n",
              "      <td>...</td>\n",
              "      <td>...</td>\n",
              "      <td>...</td>\n",
              "      <td>...</td>\n",
              "      <td>...</td>\n",
              "      <td>...</td>\n",
              "      <td>...</td>\n",
              "      <td>...</td>\n",
              "      <td>...</td>\n",
              "      <td>...</td>\n",
              "      <td>...</td>\n",
              "      <td>...</td>\n",
              "      <td>...</td>\n",
              "      <td>...</td>\n",
              "      <td>...</td>\n",
              "    </tr>\n",
              "    <tr>\n",
              "      <th>21608</th>\n",
              "      <td>263000018</td>\n",
              "      <td>14 May 2017</td>\n",
              "      <td>360000.0</td>\n",
              "      <td>3</td>\n",
              "      <td>2.50</td>\n",
              "      <td>1530.0</td>\n",
              "      <td>1131.0</td>\n",
              "      <td>3.0</td>\n",
              "      <td>No</td>\n",
              "      <td>None</td>\n",
              "      <td>Fair</td>\n",
              "      <td>8</td>\n",
              "      <td>1530.0</td>\n",
              "      <td>0</td>\n",
              "      <td>9</td>\n",
              "      <td>0</td>\n",
              "      <td>98103.0</td>\n",
              "      <td>47.6993</td>\n",
              "      <td>-122.346</td>\n",
              "      <td>1530.0</td>\n",
              "      <td>1509</td>\n",
              "    </tr>\n",
              "    <tr>\n",
              "      <th>21609</th>\n",
              "      <td>6600060120</td>\n",
              "      <td>15 February 2016</td>\n",
              "      <td>400000.0</td>\n",
              "      <td>4</td>\n",
              "      <td>2.50</td>\n",
              "      <td>2310.0</td>\n",
              "      <td>5813.0</td>\n",
              "      <td>2.0</td>\n",
              "      <td>No</td>\n",
              "      <td>None</td>\n",
              "      <td>Fair</td>\n",
              "      <td>8</td>\n",
              "      <td>2310.0</td>\n",
              "      <td>0</td>\n",
              "      <td>4</td>\n",
              "      <td>0</td>\n",
              "      <td>98146.0</td>\n",
              "      <td>47.5107</td>\n",
              "      <td>-122.362</td>\n",
              "      <td>1830.0</td>\n",
              "      <td>7200</td>\n",
              "    </tr>\n",
              "    <tr>\n",
              "      <th>21610</th>\n",
              "      <td>1523300141</td>\n",
              "      <td>14 June 2017</td>\n",
              "      <td>402101.0</td>\n",
              "      <td>2</td>\n",
              "      <td>0.75</td>\n",
              "      <td>1020.0</td>\n",
              "      <td>1350.0</td>\n",
              "      <td>2.0</td>\n",
              "      <td>No</td>\n",
              "      <td>None</td>\n",
              "      <td>Fair</td>\n",
              "      <td>7</td>\n",
              "      <td>1020.0</td>\n",
              "      <td>0</td>\n",
              "      <td>9</td>\n",
              "      <td>0</td>\n",
              "      <td>98144.0</td>\n",
              "      <td>47.5944</td>\n",
              "      <td>-122.299</td>\n",
              "      <td>1020.0</td>\n",
              "      <td>2007</td>\n",
              "    </tr>\n",
              "    <tr>\n",
              "      <th>21611</th>\n",
              "      <td>291310100</td>\n",
              "      <td>15 January 2016</td>\n",
              "      <td>400000.0</td>\n",
              "      <td>3</td>\n",
              "      <td>2.50</td>\n",
              "      <td>1600.0</td>\n",
              "      <td>2388.0</td>\n",
              "      <td>2.0</td>\n",
              "      <td>No</td>\n",
              "      <td>None</td>\n",
              "      <td>Fair</td>\n",
              "      <td>8</td>\n",
              "      <td>1600.0</td>\n",
              "      <td>0</td>\n",
              "      <td>14</td>\n",
              "      <td>0</td>\n",
              "      <td>98027.0</td>\n",
              "      <td>47.5345</td>\n",
              "      <td>-122.069</td>\n",
              "      <td>1410.0</td>\n",
              "      <td>1287</td>\n",
              "    </tr>\n",
              "    <tr>\n",
              "      <th>21612</th>\n",
              "      <td>1523300157</td>\n",
              "      <td>14 October 2017</td>\n",
              "      <td>325000.0</td>\n",
              "      <td>2</td>\n",
              "      <td>0.75</td>\n",
              "      <td>1020.0</td>\n",
              "      <td>1076.0</td>\n",
              "      <td>2.0</td>\n",
              "      <td>No</td>\n",
              "      <td>None</td>\n",
              "      <td>Fair</td>\n",
              "      <td>7</td>\n",
              "      <td>1020.0</td>\n",
              "      <td>0</td>\n",
              "      <td>10</td>\n",
              "      <td>0</td>\n",
              "      <td>98144.0</td>\n",
              "      <td>47.5941</td>\n",
              "      <td>-122.299</td>\n",
              "      <td>1020.0</td>\n",
              "      <td>1357</td>\n",
              "    </tr>\n",
              "  </tbody>\n",
              "</table>\n",
              "<p>21613 rows × 21 columns</p>\n",
              "</div>"
            ],
            "text/plain": [
              "               ID  ... Lot Area after Renovation (in Sqft)\n",
              "0      7129300520  ...                                5650\n",
              "1      6414100192  ...                                7639\n",
              "2      5631500400  ...                                8062\n",
              "3      2487200875  ...                                5000\n",
              "4      1954400510  ...                                7503\n",
              "...           ...  ...                                 ...\n",
              "21608   263000018  ...                                1509\n",
              "21609  6600060120  ...                                7200\n",
              "21610  1523300141  ...                                2007\n",
              "21611   291310100  ...                                1287\n",
              "21612  1523300157  ...                                1357\n",
              "\n",
              "[21613 rows x 21 columns]"
            ]
          },
          "metadata": {
            "tags": []
          },
          "execution_count": 9
        }
      ]
    },
    {
      "cell_type": "code",
      "metadata": {
        "colab": {
          "base_uri": "https://localhost:8080/",
          "height": 293
        },
        "id": "dOJsyzYNinx3",
        "outputId": "649b8f0a-8cba-46ae-eaed-8a65120535be"
      },
      "source": [
        "plt.plot(Raw_Housing_Data['Sale Price'])"
      ],
      "execution_count": null,
      "outputs": [
        {
          "output_type": "execute_result",
          "data": {
            "text/plain": [
              "[<matplotlib.lines.Line2D at 0x7f4fa529db90>]"
            ]
          },
          "metadata": {
            "tags": []
          },
          "execution_count": 16
        },
        {
          "output_type": "display_data",
          "data": {
            "image/png": "[encoded data removed]",
            "text/plain": [
              "<Figure size 432x288 with 1 Axes>"
            ]
          },
          "metadata": {
            "tags": [],
            "needs_background": "light"
          }
        }
      ]
    },
    {
      "cell_type": "code",
      "metadata": {
        "colab": {
          "base_uri": "https://localhost:8080/",
          "height": 295
        },
        "id": "BBiahVzPjKMp",
        "outputId": "19f81895-ba7d-41ec-e317-bc0189cb9c94"
      },
      "source": [
        "plt.plot(Raw_Housing_Data['Sale Price'], color = 'green')\n",
        "plt.xlabel(\"Record Number\")\n",
        "plt.ylabel(\"Sale Price\")\n",
        "plt.title(\"My First Graph\")\n",
        "plt.show()"
      ],
      "execution_count": null,
      "outputs": [
        {
          "output_type": "display_data",
          "data": {
            "image/png": "[encoded data removed]",
            "text/plain": [
              "<Figure size 432x288 with 1 Axes>"
            ]
          },
          "metadata": {
            "tags": [],
            "needs_background": "light"
          }
        }
      ]
    },
    {
      "cell_type": "code",
      "metadata": {
        "colab": {
          "base_uri": "https://localhost:8080/",
          "height": 295
        },
        "id": "_RbsyJqHj-rR",
        "outputId": "df3cf74d-b821-4398-c34b-22f6904bc5c3"
      },
      "source": [
        "plt.plot(Raw_Housing_Data['Sale Price'], color = 'orange', marker = '8', markerfacecolor = 'Red', markersize = 5, linewidth = 4)\n",
        "plt.xlabel(\"Record Number\")\n",
        "plt.ylabel(\"Sale Price\")\n",
        "plt.title(\"My First Graph\")\n",
        "plt.show()"
      ],
      "execution_count": null,
      "outputs": [
        {
          "output_type": "display_data",
          "data": {
            "image/png": "[encoded data removed]",
            "text/plain": [
              "<Figure size 432x288 with 1 Axes>"
            ]
          },
          "metadata": {
            "tags": [],
            "needs_background": "light"
          }
        }
      ]
    },
    {
      "cell_type": "markdown",
      "metadata": {
        "id": "cTDPQ3S1mQ78"
      },
      "source": [
        "#Grouping Data Using Groupby fuction "
      ]
    },
    {
      "cell_type": "code",
      "metadata": {
        "colab": {
          "base_uri": "https://localhost:8080/"
        },
        "id": "aiJM_fSXlena",
        "outputId": "87aa42e7-8561-4a1c-d34c-22ad5111deb3"
      },
      "source": [
        "Raw_Housing_Data.groupby('Condition of the House')['ID'].count()"
      ],
      "execution_count": null,
      "outputs": [
        {
          "output_type": "execute_result",
          "data": {
            "text/plain": [
              "Condition of the House\n",
              "Bad             30\n",
              "Excellent     1701\n",
              "Fair         14031\n",
              "Good          5679\n",
              "Okay           172\n",
              "Name: ID, dtype: int64"
            ]
          },
          "metadata": {
            "tags": []
          },
          "execution_count": 14
        }
      ]
    },
    {
      "cell_type": "code",
      "metadata": {
        "id": "5wd7TcNamOP7"
      },
      "source": [
        "values = (30, 1701, 14031, 5679, 172)"
      ],
      "execution_count": null,
      "outputs": []
    },
    {
      "cell_type": "code",
      "metadata": {
        "id": "R_lgpR1Ymmyw"
      },
      "source": [
        "labels = ('Bad', 'Excellent', 'Fair', 'Good', 'Okay') "
      ],
      "execution_count": null,
      "outputs": []
    },
    {
      "cell_type": "code",
      "metadata": {
        "colab": {
          "base_uri": "https://localhost:8080/",
          "height": 416
        },
        "id": "odbdwS8wm3D7",
        "outputId": "67b9eb5c-dda5-4448-897b-49312a29a2d4"
      },
      "source": [
        "plt.pie(values, labels = labels)"
      ],
      "execution_count": null,
      "outputs": [
        {
          "output_type": "execute_result",
          "data": {
            "text/plain": [
              "([<matplotlib.patches.Wedge at 0x7f4f607c9690>,\n",
              "  <matplotlib.patches.Wedge at 0x7f4f607c9b50>,\n",
              "  <matplotlib.patches.Wedge at 0x7f4f607c9b10>,\n",
              "  <matplotlib.patches.Wedge at 0x7f4f607dd710>,\n",
              "  <matplotlib.patches.Wedge at 0x7f4f607ddf50>],\n",
              " [Text(1.099989541385049, 0.004796753434368107, 'Bad'),\n",
              "  Text(1.0641591373844368, 0.27850553014475643, 'Excellent'),\n",
              "  Text(-0.9085709380486652, 0.620079713047741, 'Fair'),\n",
              "  Text(0.7046888223897579, -0.8446381850229934, 'Good'),\n",
              "  Text(1.0996562341282203, -0.02749848619362501, 'Okay')])"
            ]
          },
          "metadata": {
            "tags": []
          },
          "execution_count": 6
        },
        {
          "output_type": "display_data",
          "data": {
            "image/png": "[encoded data removed]",
            "text/plain": [
              "<Figure size 432x288 with 1 Axes>"
            ]
          },
          "metadata": {
            "tags": []
          }
        }
      ]
    },
    {
      "cell_type": "code",
      "metadata": {
        "colab": {
          "base_uri": "https://localhost:8080/",
          "height": 282
        },
        "id": "C4iaR2lbniBs",
        "outputId": "5e58617c-ed02-471b-9c63-704ef5d1397f"
      },
      "source": [
        "plt.bar(labels, values, color = 'pink')"
      ],
      "execution_count": null,
      "outputs": [
        {
          "output_type": "execute_result",
          "data": {
            "text/plain": [
              "<BarContainer object of 5 artists>"
            ]
          },
          "metadata": {
            "tags": []
          },
          "execution_count": 7
        },
        {
          "output_type": "display_data",
          "data": {
            "image/png": "[encoded data removed]",
            "text/plain": [
              "<Figure size 432x288 with 1 Axes>"
            ]
          },
          "metadata": {
            "tags": [],
            "needs_background": "light"
          }
        }
      ]
    },
    {
      "cell_type": "code",
      "metadata": {
        "colab": {
          "base_uri": "https://localhost:8080/",
          "height": 295
        },
        "id": "j_VkYivGqDer",
        "outputId": "e9a240a6-556e-4f12-cb76-8a31a3363a11"
      },
      "source": [
        "plt.bar(labels, values, color = 'Red', linewidth = 1, linestyle = 'dashed')\n",
        "plt.xlabel(\"Condition of the House\")\n",
        "plt.ylabel(\"Count of the House\")\n",
        "plt.title(\"My Graph\")\n",
        "plt.show()"
      ],
      "execution_count": null,
      "outputs": [
        {
          "output_type": "display_data",
          "data": {
            "image/png": "[encoded data removed]",
            "text/plain": [
              "<Figure size 432x288 with 1 Axes>"
            ]
          },
          "metadata": {
            "tags": [],
            "needs_background": "light"
          }
        }
      ]
    },
    {
      "cell_type": "code",
      "metadata": {
        "colab": {
          "base_uri": "https://localhost:8080/",
          "height": 295
        },
        "id": "JHYhA4zLq9MP",
        "outputId": "cc576f7c-288e-464a-bb52-08c71fc414ce"
      },
      "source": [
        "plt.scatter(x = Raw_Housing_Data['Flat Area (in Sqft)'], y = Raw_Housing_Data['Sale Price'],color = 'orange')\n",
        "plt.xlabel(\"Area\")\n",
        "plt.ylabel(\"Selling Price\")\n",
        "plt.title(\"Scatter Plot\")\n",
        "plt.show()"
      ],
      "execution_count": null,
      "outputs": [
        {
          "output_type": "display_data",
          "data": {
            "image/png": "[encoded data removed]",
            "text/plain": [
              "<Figure size 432x288 with 1 Axes>"
            ]
          },
          "metadata": {
            "tags": [],
            "needs_background": "light"
          }
        }
      ]
    },
    {
      "cell_type": "code",
      "metadata": {
        "colab": {
          "base_uri": "https://localhost:8080/",
          "height": 354
        },
        "id": "dMPpiGly00TO",
        "outputId": "689f8481-a06e-4bd6-e382-2e311b2fe3d5"
      },
      "source": [
        "Raw_Housing_Data.describe()"
      ],
      "execution_count": null,
      "outputs": [
        {
          "output_type": "execute_result",
          "data": {
            "text/html": [
              "<div>\n",
              "<style scoped>\n",
              "    .dataframe tbody tr th:only-of-type {\n",
              "        vertical-align: middle;\n",
              "    }\n",
              "\n",
              "    .dataframe tbody tr th {\n",
              "        vertical-align: top;\n",
              "    }\n",
              "\n",
              "    .dataframe thead th {\n",
              "        text-align: right;\n",
              "    }\n",
              "</style>\n",
              "<table border=\"1\" class=\"dataframe\">\n",
              "  <thead>\n",
              "    <tr style=\"text-align: right;\">\n",
              "      <th></th>\n",
              "      <th>ID</th>\n",
              "      <th>Sale Price</th>\n",
              "      <th>No of Bedrooms</th>\n",
              "      <th>No of Bathrooms</th>\n",
              "      <th>Flat Area (in Sqft)</th>\n",
              "      <th>Lot Area (in Sqft)</th>\n",
              "      <th>No of Floors</th>\n",
              "      <th>Overall Grade</th>\n",
              "      <th>Area of the House from Basement (in Sqft)</th>\n",
              "      <th>Basement Area (in Sqft)</th>\n",
              "      <th>Age of House (in Years)</th>\n",
              "      <th>Renovated Year</th>\n",
              "      <th>Zipcode</th>\n",
              "      <th>Latitude</th>\n",
              "      <th>Longitude</th>\n",
              "      <th>Living Area after Renovation (in Sqft)</th>\n",
              "      <th>Lot Area after Renovation (in Sqft)</th>\n",
              "    </tr>\n",
              "  </thead>\n",
              "  <tbody>\n",
              "    <tr>\n",
              "      <th>count</th>\n",
              "      <td>2.161300e+04</td>\n",
              "      <td>2.160900e+04</td>\n",
              "      <td>21613.000000</td>\n",
              "      <td>21609.000000</td>\n",
              "      <td>21604.000000</td>\n",
              "      <td>2.160400e+04</td>\n",
              "      <td>21613.000000</td>\n",
              "      <td>21613.000000</td>\n",
              "      <td>21610.000000</td>\n",
              "      <td>21613.000000</td>\n",
              "      <td>21613.000000</td>\n",
              "      <td>21613.000000</td>\n",
              "      <td>21612.000000</td>\n",
              "      <td>21612.000000</td>\n",
              "      <td>21612.000000</td>\n",
              "      <td>21612.000000</td>\n",
              "      <td>21613.000000</td>\n",
              "    </tr>\n",
              "    <tr>\n",
              "      <th>mean</th>\n",
              "      <td>4.580302e+09</td>\n",
              "      <td>5.401984e+05</td>\n",
              "      <td>3.370842</td>\n",
              "      <td>2.114732</td>\n",
              "      <td>2079.931772</td>\n",
              "      <td>1.510776e+04</td>\n",
              "      <td>1.494309</td>\n",
              "      <td>7.623467</td>\n",
              "      <td>1788.344193</td>\n",
              "      <td>291.509045</td>\n",
              "      <td>46.994864</td>\n",
              "      <td>84.402258</td>\n",
              "      <td>98077.937766</td>\n",
              "      <td>47.560048</td>\n",
              "      <td>-122.213892</td>\n",
              "      <td>1986.538914</td>\n",
              "      <td>12768.455652</td>\n",
              "    </tr>\n",
              "    <tr>\n",
              "      <th>std</th>\n",
              "      <td>2.876566e+09</td>\n",
              "      <td>3.673890e+05</td>\n",
              "      <td>0.930062</td>\n",
              "      <td>0.770138</td>\n",
              "      <td>918.487597</td>\n",
              "      <td>4.142827e+04</td>\n",
              "      <td>0.539989</td>\n",
              "      <td>1.105439</td>\n",
              "      <td>827.982604</td>\n",
              "      <td>442.575043</td>\n",
              "      <td>29.373411</td>\n",
              "      <td>401.679240</td>\n",
              "      <td>53.505425</td>\n",
              "      <td>0.138565</td>\n",
              "      <td>0.140830</td>\n",
              "      <td>685.404255</td>\n",
              "      <td>27304.179631</td>\n",
              "    </tr>\n",
              "    <tr>\n",
              "      <th>min</th>\n",
              "      <td>1.000102e+06</td>\n",
              "      <td>7.500000e+04</td>\n",
              "      <td>0.000000</td>\n",
              "      <td>0.000000</td>\n",
              "      <td>290.000000</td>\n",
              "      <td>5.200000e+02</td>\n",
              "      <td>1.000000</td>\n",
              "      <td>1.000000</td>\n",
              "      <td>290.000000</td>\n",
              "      <td>0.000000</td>\n",
              "      <td>3.000000</td>\n",
              "      <td>0.000000</td>\n",
              "      <td>98001.000000</td>\n",
              "      <td>47.155900</td>\n",
              "      <td>-122.519000</td>\n",
              "      <td>399.000000</td>\n",
              "      <td>651.000000</td>\n",
              "    </tr>\n",
              "    <tr>\n",
              "      <th>25%</th>\n",
              "      <td>2.123049e+09</td>\n",
              "      <td>3.219500e+05</td>\n",
              "      <td>3.000000</td>\n",
              "      <td>1.750000</td>\n",
              "      <td>1429.250000</td>\n",
              "      <td>5.040000e+03</td>\n",
              "      <td>1.000000</td>\n",
              "      <td>7.000000</td>\n",
              "      <td>1190.000000</td>\n",
              "      <td>0.000000</td>\n",
              "      <td>21.000000</td>\n",
              "      <td>0.000000</td>\n",
              "      <td>98033.000000</td>\n",
              "      <td>47.470975</td>\n",
              "      <td>-122.328000</td>\n",
              "      <td>1490.000000</td>\n",
              "      <td>5100.000000</td>\n",
              "    </tr>\n",
              "    <tr>\n",
              "      <th>50%</th>\n",
              "      <td>3.904930e+09</td>\n",
              "      <td>4.500000e+05</td>\n",
              "      <td>3.000000</td>\n",
              "      <td>2.250000</td>\n",
              "      <td>1910.000000</td>\n",
              "      <td>7.617500e+03</td>\n",
              "      <td>1.500000</td>\n",
              "      <td>7.000000</td>\n",
              "      <td>1560.000000</td>\n",
              "      <td>0.000000</td>\n",
              "      <td>43.000000</td>\n",
              "      <td>0.000000</td>\n",
              "      <td>98065.000000</td>\n",
              "      <td>47.571800</td>\n",
              "      <td>-122.230000</td>\n",
              "      <td>1840.000000</td>\n",
              "      <td>7620.000000</td>\n",
              "    </tr>\n",
              "    <tr>\n",
              "      <th>75%</th>\n",
              "      <td>7.308900e+09</td>\n",
              "      <td>6.450000e+05</td>\n",
              "      <td>4.000000</td>\n",
              "      <td>2.500000</td>\n",
              "      <td>2550.000000</td>\n",
              "      <td>1.068825e+04</td>\n",
              "      <td>2.000000</td>\n",
              "      <td>8.000000</td>\n",
              "      <td>2210.000000</td>\n",
              "      <td>560.000000</td>\n",
              "      <td>67.000000</td>\n",
              "      <td>0.000000</td>\n",
              "      <td>98118.000000</td>\n",
              "      <td>47.678000</td>\n",
              "      <td>-122.125000</td>\n",
              "      <td>2360.000000</td>\n",
              "      <td>10083.000000</td>\n",
              "    </tr>\n",
              "    <tr>\n",
              "      <th>max</th>\n",
              "      <td>9.900000e+09</td>\n",
              "      <td>7.700000e+06</td>\n",
              "      <td>33.000000</td>\n",
              "      <td>8.000000</td>\n",
              "      <td>13540.000000</td>\n",
              "      <td>1.651359e+06</td>\n",
              "      <td>3.500000</td>\n",
              "      <td>10.000000</td>\n",
              "      <td>9410.000000</td>\n",
              "      <td>4820.000000</td>\n",
              "      <td>118.000000</td>\n",
              "      <td>2015.000000</td>\n",
              "      <td>98199.000000</td>\n",
              "      <td>47.777600</td>\n",
              "      <td>-121.315000</td>\n",
              "      <td>6210.000000</td>\n",
              "      <td>871200.000000</td>\n",
              "    </tr>\n",
              "  </tbody>\n",
              "</table>\n",
              "</div>"
            ],
            "text/plain": [
              "                 ID  ...  Lot Area after Renovation (in Sqft)\n",
              "count  2.161300e+04  ...                         21613.000000\n",
              "mean   4.580302e+09  ...                         12768.455652\n",
              "std    2.876566e+09  ...                         27304.179631\n",
              "min    1.000102e+06  ...                           651.000000\n",
              "25%    2.123049e+09  ...                          5100.000000\n",
              "50%    3.904930e+09  ...                          7620.000000\n",
              "75%    7.308900e+09  ...                         10083.000000\n",
              "max    9.900000e+09  ...                        871200.000000\n",
              "\n",
              "[8 rows x 17 columns]"
            ]
          },
          "metadata": {
            "tags": []
          },
          "execution_count": 18
        }
      ]
    },
    {
      "cell_type": "code",
      "metadata": {
        "colab": {
          "base_uri": "https://localhost:8080/",
          "height": 668
        },
        "id": "N7sortpG1Ers",
        "outputId": "7cc8a6ec-03e3-4212-d03b-b02766cb8756"
      },
      "source": [
        "plt.hist(Raw_Housing_Data['Age of House (in Years)'],bins =100)"
      ],
      "execution_count": null,
      "outputs": [
        {
          "output_type": "execute_result",
          "data": {
            "text/plain": [
              "(array([597., 201., 170., 130., 143., 230., 784., 454., 450., 433., 422.,\n",
              "        222., 305., 483., 239., 177., 195., 169., 249., 202., 422., 320.,\n",
              "        290., 270., 294., 215., 457., 212., 105., 199., 240., 343., 387.,\n",
              "        670., 189., 162., 149., 149., 104., 132., 661., 350., 250., 187.,\n",
              "        172., 256., 536., 248., 334., 224., 198., 198., 271., 528., 220.,\n",
              "        229., 250., 195., 235., 263., 221., 140., 170., 223., 161., 156.,\n",
              "        158.,  68.,  40.,  24.,  21.,  30.,  38., 151., 114., 126., 115.,\n",
              "        180., 165., 139., 179.,  76.,  98.,  88., 120.,  56., 143.,  54.,\n",
              "         59.,  79.,  73., 134.,  94., 151.,  92.,  74.,  45.,  46.,  27.,\n",
              "        116.]),\n",
              " array([  3.  ,   4.15,   5.3 ,   6.45,   7.6 ,   8.75,   9.9 ,  11.05,\n",
              "         12.2 ,  13.35,  14.5 ,  15.65,  16.8 ,  17.95,  19.1 ,  20.25,\n",
              "         21.4 ,  22.55,  23.7 ,  24.85,  26.  ,  27.15,  28.3 ,  29.45,\n",
              "         30.6 ,  31.75,  32.9 ,  34.05,  35.2 ,  36.35,  37.5 ,  38.65,\n",
              "         39.8 ,  40.95,  42.1 ,  43.25,  44.4 ,  45.55,  46.7 ,  47.85,\n",
              "         49.  ,  50.15,  51.3 ,  52.45,  53.6 ,  54.75,  55.9 ,  57.05,\n",
              "         58.2 ,  59.35,  60.5 ,  61.65,  62.8 ,  63.95,  65.1 ,  66.25,\n",
              "         67.4 ,  68.55,  69.7 ,  70.85,  72.  ,  73.15,  74.3 ,  75.45,\n",
              "         76.6 ,  77.75,  78.9 ,  80.05,  81.2 ,  82.35,  83.5 ,  84.65,\n",
              "         85.8 ,  86.95,  88.1 ,  89.25,  90.4 ,  91.55,  92.7 ,  93.85,\n",
              "         95.  ,  96.15,  97.3 ,  98.45,  99.6 , 100.75, 101.9 , 103.05,\n",
              "        104.2 , 105.35, 106.5 , 107.65, 108.8 , 109.95, 111.1 , 112.25,\n",
              "        113.4 , 114.55, 115.7 , 116.85, 118.  ]),\n",
              " <a list of 100 Patch objects>)"
            ]
          },
          "metadata": {
            "tags": []
          },
          "execution_count": 11
        },
        {
          "output_type": "display_data",
          "data": {
            "image/png": "[encoded data removed]",
            "text/plain": [
              "<Figure size 432x288 with 1 Axes>"
            ]
          },
          "metadata": {
            "tags": [],
            "needs_background": "light"
          }
        }
      ]
    },
    {
      "cell_type": "code",
      "metadata": {
        "colab": {
          "base_uri": "https://localhost:8080/",
          "height": 295
        },
        "id": "VzuCUg-C2CPH",
        "outputId": "b25496ba-2647-4b3b-b2b6-ea80b98fc50f"
      },
      "source": [
        "plt.hist(Raw_Housing_Data['Age of House (in Years)'], bins = 20)\n",
        "plt.xlabel(\"Age of House (in Years)\")\n",
        "plt.ylabel(\"No. of Records\")\n",
        "plt.title(\"Histogram\")\n",
        "plt.show()"
      ],
      "execution_count": null,
      "outputs": [
        {
          "output_type": "display_data",
          "data": {
            "image/png": "[encoded data removed]",
            "text/plain": [
              "<Figure size 432x288 with 1 Axes>"
            ]
          },
          "metadata": {
            "tags": [],
            "needs_background": "light"
          }
        }
      ]
    },
    {
      "cell_type": "code",
      "metadata": {
        "colab": {
          "base_uri": "https://localhost:8080/",
          "height": 399
        },
        "id": "ueY-zMaE2rU7",
        "outputId": "170199f5-2827-4f5c-9c07-095bbf6f6ffa"
      },
      "source": [
        "plt.boxplot(Raw_Housing_Data['Age of House (in Years)'])"
      ],
      "execution_count": null,
      "outputs": [
        {
          "output_type": "execute_result",
          "data": {
            "text/plain": [
              "{'boxes': [<matplotlib.lines.Line2D at 0x7f81e6a15b10>],\n",
              " 'caps': [<matplotlib.lines.Line2D at 0x7f81e6a1bbd0>,\n",
              "  <matplotlib.lines.Line2D at 0x7f81e6a24150>],\n",
              " 'fliers': [<matplotlib.lines.Line2D at 0x7f81e6a24bd0>],\n",
              " 'means': [],\n",
              " 'medians': [<matplotlib.lines.Line2D at 0x7f81e6a246d0>],\n",
              " 'whiskers': [<matplotlib.lines.Line2D at 0x7f81e6a1b150>,\n",
              "  <matplotlib.lines.Line2D at 0x7f81e6a1b690>]}"
            ]
          },
          "metadata": {
            "tags": []
          },
          "execution_count": 71
        },
        {
          "output_type": "display_data",
          "data": {
            "image/png": "[encoded data removed]",
            "text/plain": [
              "<Figure size 432x288 with 1 Axes>"
            ]
          },
          "metadata": {
            "tags": [],
            "needs_background": "light"
          }
        }
      ]
    },
    {
      "cell_type": "markdown",
      "metadata": {
        "id": "kwvOeP7o3OAG"
      },
      "source": [
        "# Pandas.GroupbyFunction()"
      ]
    },
    {
      "cell_type": "code",
      "metadata": {
        "colab": {
          "base_uri": "https://localhost:8080/",
          "height": 484
        },
        "id": "yVce0JFJ3c_W",
        "outputId": "9224f6b5-9bc2-4825-8f59-8fa55f36781f"
      },
      "source": [
        "Raw_Housing_Data.head (5)"
      ],
      "execution_count": null,
      "outputs": [
        {
          "output_type": "execute_result",
          "data": {
            "text/html": [
              "<div>\n",
              "<style scoped>\n",
              "    .dataframe tbody tr th:only-of-type {\n",
              "        vertical-align: middle;\n",
              "    }\n",
              "\n",
              "    .dataframe tbody tr th {\n",
              "        vertical-align: top;\n",
              "    }\n",
              "\n",
              "    .dataframe thead th {\n",
              "        text-align: right;\n",
              "    }\n",
              "</style>\n",
              "<table border=\"1\" class=\"dataframe\">\n",
              "  <thead>\n",
              "    <tr style=\"text-align: right;\">\n",
              "      <th></th>\n",
              "      <th>ID</th>\n",
              "      <th>Date House was Sold</th>\n",
              "      <th>Sale Price</th>\n",
              "      <th>No of Bedrooms</th>\n",
              "      <th>No of Bathrooms</th>\n",
              "      <th>Flat Area (in Sqft)</th>\n",
              "      <th>Lot Area (in Sqft)</th>\n",
              "      <th>No of Floors</th>\n",
              "      <th>Waterfront View</th>\n",
              "      <th>No of Times Visited</th>\n",
              "      <th>Condition of the House</th>\n",
              "      <th>Overall Grade</th>\n",
              "      <th>Area of the House from Basement (in Sqft)</th>\n",
              "      <th>Basement Area (in Sqft)</th>\n",
              "      <th>Age of House (in Years)</th>\n",
              "      <th>Renovated Year</th>\n",
              "      <th>Zipcode</th>\n",
              "      <th>Latitude</th>\n",
              "      <th>Longitude</th>\n",
              "      <th>Living Area after Renovation (in Sqft)</th>\n",
              "      <th>Lot Area after Renovation (in Sqft)</th>\n",
              "    </tr>\n",
              "  </thead>\n",
              "  <tbody>\n",
              "    <tr>\n",
              "      <th>0</th>\n",
              "      <td>7129300520</td>\n",
              "      <td>14 October 2017</td>\n",
              "      <td>221900.0</td>\n",
              "      <td>3</td>\n",
              "      <td>1.00</td>\n",
              "      <td>1180.0</td>\n",
              "      <td>5650.0</td>\n",
              "      <td>1.0</td>\n",
              "      <td>No</td>\n",
              "      <td>None</td>\n",
              "      <td>Fair</td>\n",
              "      <td>7</td>\n",
              "      <td>1180.0</td>\n",
              "      <td>0</td>\n",
              "      <td>63</td>\n",
              "      <td>0</td>\n",
              "      <td>98178.0</td>\n",
              "      <td>47.5112</td>\n",
              "      <td>-122.257</td>\n",
              "      <td>1340.0</td>\n",
              "      <td>5650</td>\n",
              "    </tr>\n",
              "    <tr>\n",
              "      <th>1</th>\n",
              "      <td>6414100192</td>\n",
              "      <td>14 December 2017</td>\n",
              "      <td>538000.0</td>\n",
              "      <td>3</td>\n",
              "      <td>2.25</td>\n",
              "      <td>2570.0</td>\n",
              "      <td>7242.0</td>\n",
              "      <td>2.0</td>\n",
              "      <td>No</td>\n",
              "      <td>None</td>\n",
              "      <td>Fair</td>\n",
              "      <td>7</td>\n",
              "      <td>2170.0</td>\n",
              "      <td>400</td>\n",
              "      <td>67</td>\n",
              "      <td>1991</td>\n",
              "      <td>98125.0</td>\n",
              "      <td>47.7210</td>\n",
              "      <td>-122.319</td>\n",
              "      <td>1690.0</td>\n",
              "      <td>7639</td>\n",
              "    </tr>\n",
              "    <tr>\n",
              "      <th>2</th>\n",
              "      <td>5631500400</td>\n",
              "      <td>15 February 2016</td>\n",
              "      <td>180000.0</td>\n",
              "      <td>2</td>\n",
              "      <td>1.00</td>\n",
              "      <td>770.0</td>\n",
              "      <td>10000.0</td>\n",
              "      <td>1.0</td>\n",
              "      <td>No</td>\n",
              "      <td>None</td>\n",
              "      <td>Fair</td>\n",
              "      <td>6</td>\n",
              "      <td>770.0</td>\n",
              "      <td>0</td>\n",
              "      <td>85</td>\n",
              "      <td>0</td>\n",
              "      <td>98028.0</td>\n",
              "      <td>47.7379</td>\n",
              "      <td>-122.233</td>\n",
              "      <td>2720.0</td>\n",
              "      <td>8062</td>\n",
              "    </tr>\n",
              "    <tr>\n",
              "      <th>3</th>\n",
              "      <td>2487200875</td>\n",
              "      <td>14 December 2017</td>\n",
              "      <td>604000.0</td>\n",
              "      <td>4</td>\n",
              "      <td>3.00</td>\n",
              "      <td>1960.0</td>\n",
              "      <td>5000.0</td>\n",
              "      <td>1.0</td>\n",
              "      <td>No</td>\n",
              "      <td>None</td>\n",
              "      <td>Excellent</td>\n",
              "      <td>7</td>\n",
              "      <td>1050.0</td>\n",
              "      <td>910</td>\n",
              "      <td>53</td>\n",
              "      <td>0</td>\n",
              "      <td>98136.0</td>\n",
              "      <td>47.5208</td>\n",
              "      <td>-122.393</td>\n",
              "      <td>1360.0</td>\n",
              "      <td>5000</td>\n",
              "    </tr>\n",
              "    <tr>\n",
              "      <th>4</th>\n",
              "      <td>1954400510</td>\n",
              "      <td>15 February 2016</td>\n",
              "      <td>510000.0</td>\n",
              "      <td>3</td>\n",
              "      <td>2.00</td>\n",
              "      <td>1680.0</td>\n",
              "      <td>8080.0</td>\n",
              "      <td>1.0</td>\n",
              "      <td>No</td>\n",
              "      <td>None</td>\n",
              "      <td>Fair</td>\n",
              "      <td>8</td>\n",
              "      <td>1680.0</td>\n",
              "      <td>0</td>\n",
              "      <td>31</td>\n",
              "      <td>0</td>\n",
              "      <td>98074.0</td>\n",
              "      <td>47.6168</td>\n",
              "      <td>-122.045</td>\n",
              "      <td>1800.0</td>\n",
              "      <td>7503</td>\n",
              "    </tr>\n",
              "  </tbody>\n",
              "</table>\n",
              "</div>"
            ],
            "text/plain": [
              "           ID  ... Lot Area after Renovation (in Sqft)\n",
              "0  7129300520  ...                                5650\n",
              "1  6414100192  ...                                7639\n",
              "2  5631500400  ...                                8062\n",
              "3  2487200875  ...                                5000\n",
              "4  1954400510  ...                                7503\n",
              "\n",
              "[5 rows x 21 columns]"
            ]
          },
          "metadata": {
            "tags": []
          },
          "execution_count": 12
        }
      ]
    },
    {
      "cell_type": "code",
      "metadata": {
        "id": "AriTy51E3khx"
      },
      "source": [
        "data = pd.read_csv('Raw_Housing_Prices.csv')"
      ],
      "execution_count": null,
      "outputs": []
    },
    {
      "cell_type": "code",
      "metadata": {
        "colab": {
          "base_uri": "https://localhost:8080/",
          "height": 484
        },
        "id": "_PRtaRi46sT1",
        "outputId": "e4cf1eeb-70de-4203-f446-ab244685edab"
      },
      "source": [
        "data.head()"
      ],
      "execution_count": null,
      "outputs": [
        {
          "output_type": "execute_result",
          "data": {
            "text/html": [
              "<div>\n",
              "<style scoped>\n",
              "    .dataframe tbody tr th:only-of-type {\n",
              "        vertical-align: middle;\n",
              "    }\n",
              "\n",
              "    .dataframe tbody tr th {\n",
              "        vertical-align: top;\n",
              "    }\n",
              "\n",
              "    .dataframe thead th {\n",
              "        text-align: right;\n",
              "    }\n",
              "</style>\n",
              "<table border=\"1\" class=\"dataframe\">\n",
              "  <thead>\n",
              "    <tr style=\"text-align: right;\">\n",
              "      <th></th>\n",
              "      <th>ID</th>\n",
              "      <th>Date House was Sold</th>\n",
              "      <th>Sale Price</th>\n",
              "      <th>No of Bedrooms</th>\n",
              "      <th>No of Bathrooms</th>\n",
              "      <th>Flat Area (in Sqft)</th>\n",
              "      <th>Lot Area (in Sqft)</th>\n",
              "      <th>No of Floors</th>\n",
              "      <th>Waterfront View</th>\n",
              "      <th>No of Times Visited</th>\n",
              "      <th>Condition of the House</th>\n",
              "      <th>Overall Grade</th>\n",
              "      <th>Area of the House from Basement (in Sqft)</th>\n",
              "      <th>Basement Area (in Sqft)</th>\n",
              "      <th>Age of House (in Years)</th>\n",
              "      <th>Renovated Year</th>\n",
              "      <th>Zipcode</th>\n",
              "      <th>Latitude</th>\n",
              "      <th>Longitude</th>\n",
              "      <th>Living Area after Renovation (in Sqft)</th>\n",
              "      <th>Lot Area after Renovation (in Sqft)</th>\n",
              "    </tr>\n",
              "  </thead>\n",
              "  <tbody>\n",
              "    <tr>\n",
              "      <th>0</th>\n",
              "      <td>7129300520</td>\n",
              "      <td>14 October 2017</td>\n",
              "      <td>221900.0</td>\n",
              "      <td>3</td>\n",
              "      <td>1.00</td>\n",
              "      <td>1180.0</td>\n",
              "      <td>5650.0</td>\n",
              "      <td>1.0</td>\n",
              "      <td>No</td>\n",
              "      <td>None</td>\n",
              "      <td>Fair</td>\n",
              "      <td>7</td>\n",
              "      <td>1180.0</td>\n",
              "      <td>0</td>\n",
              "      <td>63</td>\n",
              "      <td>0</td>\n",
              "      <td>98178.0</td>\n",
              "      <td>47.5112</td>\n",
              "      <td>-122.257</td>\n",
              "      <td>1340.0</td>\n",
              "      <td>5650</td>\n",
              "    </tr>\n",
              "    <tr>\n",
              "      <th>1</th>\n",
              "      <td>6414100192</td>\n",
              "      <td>14 December 2017</td>\n",
              "      <td>538000.0</td>\n",
              "      <td>3</td>\n",
              "      <td>2.25</td>\n",
              "      <td>2570.0</td>\n",
              "      <td>7242.0</td>\n",
              "      <td>2.0</td>\n",
              "      <td>No</td>\n",
              "      <td>None</td>\n",
              "      <td>Fair</td>\n",
              "      <td>7</td>\n",
              "      <td>2170.0</td>\n",
              "      <td>400</td>\n",
              "      <td>67</td>\n",
              "      <td>1991</td>\n",
              "      <td>98125.0</td>\n",
              "      <td>47.7210</td>\n",
              "      <td>-122.319</td>\n",
              "      <td>1690.0</td>\n",
              "      <td>7639</td>\n",
              "    </tr>\n",
              "    <tr>\n",
              "      <th>2</th>\n",
              "      <td>5631500400</td>\n",
              "      <td>15 February 2016</td>\n",
              "      <td>180000.0</td>\n",
              "      <td>2</td>\n",
              "      <td>1.00</td>\n",
              "      <td>770.0</td>\n",
              "      <td>10000.0</td>\n",
              "      <td>1.0</td>\n",
              "      <td>No</td>\n",
              "      <td>None</td>\n",
              "      <td>Fair</td>\n",
              "      <td>6</td>\n",
              "      <td>770.0</td>\n",
              "      <td>0</td>\n",
              "      <td>85</td>\n",
              "      <td>0</td>\n",
              "      <td>98028.0</td>\n",
              "      <td>47.7379</td>\n",
              "      <td>-122.233</td>\n",
              "      <td>2720.0</td>\n",
              "      <td>8062</td>\n",
              "    </tr>\n",
              "    <tr>\n",
              "      <th>3</th>\n",
              "      <td>2487200875</td>\n",
              "      <td>14 December 2017</td>\n",
              "      <td>604000.0</td>\n",
              "      <td>4</td>\n",
              "      <td>3.00</td>\n",
              "      <td>1960.0</td>\n",
              "      <td>5000.0</td>\n",
              "      <td>1.0</td>\n",
              "      <td>No</td>\n",
              "      <td>None</td>\n",
              "      <td>Excellent</td>\n",
              "      <td>7</td>\n",
              "      <td>1050.0</td>\n",
              "      <td>910</td>\n",
              "      <td>53</td>\n",
              "      <td>0</td>\n",
              "      <td>98136.0</td>\n",
              "      <td>47.5208</td>\n",
              "      <td>-122.393</td>\n",
              "      <td>1360.0</td>\n",
              "      <td>5000</td>\n",
              "    </tr>\n",
              "    <tr>\n",
              "      <th>4</th>\n",
              "      <td>1954400510</td>\n",
              "      <td>15 February 2016</td>\n",
              "      <td>510000.0</td>\n",
              "      <td>3</td>\n",
              "      <td>2.00</td>\n",
              "      <td>1680.0</td>\n",
              "      <td>8080.0</td>\n",
              "      <td>1.0</td>\n",
              "      <td>No</td>\n",
              "      <td>None</td>\n",
              "      <td>Fair</td>\n",
              "      <td>8</td>\n",
              "      <td>1680.0</td>\n",
              "      <td>0</td>\n",
              "      <td>31</td>\n",
              "      <td>0</td>\n",
              "      <td>98074.0</td>\n",
              "      <td>47.6168</td>\n",
              "      <td>-122.045</td>\n",
              "      <td>1800.0</td>\n",
              "      <td>7503</td>\n",
              "    </tr>\n",
              "  </tbody>\n",
              "</table>\n",
              "</div>"
            ],
            "text/plain": [
              "           ID  ... Lot Area after Renovation (in Sqft)\n",
              "0  7129300520  ...                                5650\n",
              "1  6414100192  ...                                7639\n",
              "2  5631500400  ...                                8062\n",
              "3  2487200875  ...                                5000\n",
              "4  1954400510  ...                                7503\n",
              "\n",
              "[5 rows x 21 columns]"
            ]
          },
          "metadata": {
            "tags": []
          },
          "execution_count": 11
        }
      ]
    },
    {
      "cell_type": "code",
      "metadata": {
        "colab": {
          "base_uri": "https://localhost:8080/"
        },
        "id": "HqUaOfUt6xLw",
        "outputId": "2d4dd258-c078-4348-9ad3-c5bac4a04c57"
      },
      "source": [
        "data['Sale Price'].mean()"
      ],
      "execution_count": null,
      "outputs": [
        {
          "output_type": "execute_result",
          "data": {
            "text/plain": [
              "511618.55814706837"
            ]
          },
          "metadata": {
            "tags": []
          },
          "execution_count": 23
        }
      ]
    },
    {
      "cell_type": "code",
      "metadata": {
        "colab": {
          "base_uri": "https://localhost:8080/",
          "height": 587
        },
        "id": "GPiQFPE88m_v",
        "outputId": "9d3f8a3c-e456-4fb0-900b-2824978e9aaa"
      },
      "source": [
        "#Initialising a new column\n",
        "data['condition_sale'] = 0\n",
        "\n",
        "#Calculating the Condition of the House\n",
        "for i in data['Condition of the House'].unique():\n",
        "  data['condition_sale'][data['Condition of the House'] == str(i)] = data['Sale Price'][data['Condition of the House'] == str(i)].mean()\n",
        "\n",
        "#Plotting the mean sales based on the Condition of the House\n",
        "plt.figure(dpi = 100)\n",
        "plt.bar(data['Condition of the House'].unique(), data['condition_sale'].unique())\n",
        "plt.xlabel(\"Condition of the House\")\n",
        "plt.ylabel(\"Mean Sale Price\")\n",
        "plt.show"
      ],
      "execution_count": null,
      "outputs": [
        {
          "output_type": "stream",
          "text": [
            "/usr/local/lib/python3.7/dist-packages/ipykernel_launcher.py:6: SettingWithCopyWarning: \n",
            "A value is trying to be set on a copy of a slice from a DataFrame\n",
            "\n",
            "See the caveats in the documentation: https://pandas.pydata.org/pandas-docs/stable/user_guide/indexing.html#returning-a-view-versus-a-copy\n",
            "  \n",
            "/usr/local/lib/python3.7/dist-packages/ipykernel_launcher.py:6: SettingWithCopyWarning: \n",
            "A value is trying to be set on a copy of a slice from a DataFrame\n",
            "\n",
            "See the caveats in the documentation: https://pandas.pydata.org/pandas-docs/stable/user_guide/indexing.html#returning-a-view-versus-a-copy\n",
            "  \n"
          ],
          "name": "stderr"
        },
        {
          "output_type": "execute_result",
          "data": {
            "text/plain": [
              "<function matplotlib.pyplot.show>"
            ]
          },
          "metadata": {
            "tags": []
          },
          "execution_count": 19
        },
        {
          "output_type": "display_data",
          "data": {
            "image/png": "[encoded data removed]",
            "text/plain": [
              "<Figure size 600x400 with 1 Axes>"
            ]
          },
          "metadata": {
            "tags": [],
            "needs_background": "light"
          }
        }
      ]
    },
    {
      "cell_type": "code",
      "metadata": {
        "id": "kMFUXfOVWF5H"
      },
      "source": [
        "#Initialising new column\n",
        "data['zip_condition_sale'] = 0\n",
        "\n",
        "C = 'Condition of the House'\n",
        "Z = 'Zipcode'\n",
        "\n",
        "# Calculating mean based on the condition of the House and Zipcode\n",
        "for i in data[C].unique():\n",
        "  for j in data[Z].unique():\n",
        "    data['zip_condition_sale'][(data[C] == str(i)) & (data[Z] == j)] = data['Sale Price'][(data[C] ==str(i))].mean()\n",
        "    len(data['zip_condition_sale'].unique())"
      ],
      "execution_count": null,
      "outputs": []
    },
    {
      "cell_type": "markdown",
      "metadata": {
        "id": "bI1zv001eh1G"
      },
      "source": [
        "# By Pandas.groupby Function"
      ]
    },
    {
      "cell_type": "code",
      "metadata": {
        "colab": {
          "base_uri": "https://localhost:8080/"
        },
        "id": "oxPtNMH0dkVn",
        "outputId": "214aad28-4121-42ec-9db0-ec57401e2603"
      },
      "source": [
        "zip_condition_sale = data.groupby(['Condition of the House', 'Zipcode'])['Sale Price'].mean()\n",
        "zip_condition_sale"
      ],
      "execution_count": null,
      "outputs": [
        {
          "output_type": "execute_result",
          "data": {
            "text/plain": [
              "Condition of the House  Zipcode\n",
              "Bad                     98004.0    1.129575e+06\n",
              "                        98006.0    3.725000e+05\n",
              "                        98011.0    2.700000e+05\n",
              "                        98023.0    1.500000e+05\n",
              "                        98024.0    1.420000e+05\n",
              "                                       ...     \n",
              "Okay                    98155.0    3.601833e+05\n",
              "                        98166.0    2.165625e+05\n",
              "                        98168.0    1.809389e+05\n",
              "                        98178.0    1.750000e+05\n",
              "                        98198.0    2.705325e+05\n",
              "Name: Sale Price, Length: 283, dtype: float64"
            ]
          },
          "metadata": {
            "tags": []
          },
          "execution_count": 33
        }
      ]
    },
    {
      "cell_type": "markdown",
      "metadata": {
        "id": "CVN1mjitevpr"
      },
      "source": [
        "# Pandas.pivot_table Fuction"
      ]
    },
    {
      "cell_type": "code",
      "metadata": {
        "colab": {
          "base_uri": "https://localhost:8080/",
          "height": 431
        },
        "id": "Dfeckn3KeAgy",
        "outputId": "25bc9b6f-8e5a-47d6-b175-4dea5ce1ca24"
      },
      "source": [
        "zipcode_condition_sale2 = pd.pivot_table(data, index=['Zipcode'], columns=['Condition of the House'], aggfunc=np.mean)\n",
        "zipcode_condition_sale2                                        "
      ],
      "execution_count": null,
      "outputs": [
        {
          "output_type": "execute_result",
          "data": {
            "text/html": [
              "<div>\n",
              "<style scoped>\n",
              "    .dataframe tbody tr th:only-of-type {\n",
              "        vertical-align: middle;\n",
              "    }\n",
              "\n",
              "    .dataframe tbody tr th {\n",
              "        vertical-align: top;\n",
              "    }\n",
              "\n",
              "    .dataframe thead th {\n",
              "        text-align: right;\n",
              "    }\n",
              "</style>\n",
              "<table border=\"1\" class=\"dataframe\">\n",
              "  <thead>\n",
              "    <tr style=\"text-align: right;\">\n",
              "      <th></th>\n",
              "      <th></th>\n",
              "      <th>Sale Price</th>\n",
              "    </tr>\n",
              "    <tr>\n",
              "      <th>Condition of the House</th>\n",
              "      <th>Zipcode</th>\n",
              "      <th></th>\n",
              "    </tr>\n",
              "  </thead>\n",
              "  <tbody>\n",
              "    <tr>\n",
              "      <th rowspan=\"5\" valign=\"top\">Bad</th>\n",
              "      <th>98004.0</th>\n",
              "      <td>1.129575e+06</td>\n",
              "    </tr>\n",
              "    <tr>\n",
              "      <th>98006.0</th>\n",
              "      <td>3.725000e+05</td>\n",
              "    </tr>\n",
              "    <tr>\n",
              "      <th>98011.0</th>\n",
              "      <td>2.700000e+05</td>\n",
              "    </tr>\n",
              "    <tr>\n",
              "      <th>98023.0</th>\n",
              "      <td>1.500000e+05</td>\n",
              "    </tr>\n",
              "    <tr>\n",
              "      <th>98024.0</th>\n",
              "      <td>1.420000e+05</td>\n",
              "    </tr>\n",
              "    <tr>\n",
              "      <th>...</th>\n",
              "      <th>...</th>\n",
              "      <td>...</td>\n",
              "    </tr>\n",
              "    <tr>\n",
              "      <th rowspan=\"5\" valign=\"top\">Okay</th>\n",
              "      <th>98155.0</th>\n",
              "      <td>3.601833e+05</td>\n",
              "    </tr>\n",
              "    <tr>\n",
              "      <th>98166.0</th>\n",
              "      <td>2.165625e+05</td>\n",
              "    </tr>\n",
              "    <tr>\n",
              "      <th>98168.0</th>\n",
              "      <td>1.809389e+05</td>\n",
              "    </tr>\n",
              "    <tr>\n",
              "      <th>98178.0</th>\n",
              "      <td>1.750000e+05</td>\n",
              "    </tr>\n",
              "    <tr>\n",
              "      <th>98198.0</th>\n",
              "      <td>2.705325e+05</td>\n",
              "    </tr>\n",
              "  </tbody>\n",
              "</table>\n",
              "<p>283 rows × 1 columns</p>\n",
              "</div>"
            ],
            "text/plain": [
              "                                  Sale Price\n",
              "Condition of the House Zipcode              \n",
              "Bad                    98004.0  1.129575e+06\n",
              "                       98006.0  3.725000e+05\n",
              "                       98011.0  2.700000e+05\n",
              "                       98023.0  1.500000e+05\n",
              "                       98024.0  1.420000e+05\n",
              "...                                      ...\n",
              "Okay                   98155.0  3.601833e+05\n",
              "                       98166.0  2.165625e+05\n",
              "                       98168.0  1.809389e+05\n",
              "                       98178.0  1.750000e+05\n",
              "                       98198.0  2.705325e+05\n",
              "\n",
              "[283 rows x 1 columns]"
            ]
          },
          "metadata": {
            "tags": []
          },
          "execution_count": 19
        }
      ]
    },
    {
      "cell_type": "markdown",
      "metadata": {
        "id": "_8PNfd483cb-"
      },
      "source": [
        "# pandas.map Function"
      ]
    },
    {
      "cell_type": "code",
      "metadata": {
        "colab": {
          "base_uri": "https://localhost:8080/"
        },
        "id": "kXuladZ925Yw",
        "outputId": "dfa6a9bb-d78a-480b-e4cd-9cd78360b1e4"
      },
      "source": [
        "data['plot_length'] = data['Flat Area (in Sqft)'] + data['Lot Area (in Sqft)']\n",
        "data['plot_length'].head()"
      ],
      "execution_count": null,
      "outputs": [
        {
          "output_type": "execute_result",
          "data": {
            "text/plain": [
              "0     6830.0\n",
              "1     9812.0\n",
              "2    10770.0\n",
              "3     6960.0\n",
              "4     9760.0\n",
              "Name: plot_length, dtype: float64"
            ]
          },
          "metadata": {
            "tags": []
          },
          "execution_count": 12
        }
      ]
    },
    {
      "cell_type": "code",
      "metadata": {
        "colab": {
          "base_uri": "https://localhost:8080/"
        },
        "id": "sG_1l37Q4H-b",
        "outputId": "74de797e-a151-4cca-c709-78b883d8b530"
      },
      "source": [
        "data['Condition of the House'][data['Condition of the House'] == 'Fair']= '1'\n",
        "data['Condition of the House'][data['Condition of the House'] == 'Okay'] = '0'\n",
        "data['Condition of the House'][data['Condition of the House'] == 'Bad'] = '0'\n",
        "data['Condition of the House'][data['Condition of the House' ]== 'Good'] = '1'\n",
        "data['Condition of the House'][data['Condition of the House'] == 'Excellent'] = '3'\n",
        "data['Condition of the House'].unique()"
      ],
      "execution_count": null,
      "outputs": [
        {
          "output_type": "stream",
          "text": [
            "/usr/local/lib/python3.7/dist-packages/ipykernel_launcher.py:1: SettingWithCopyWarning: \n",
            "A value is trying to be set on a copy of a slice from a DataFrame\n",
            "\n",
            "See the caveats in the documentation: https://pandas.pydata.org/pandas-docs/stable/user_guide/indexing.html#returning-a-view-versus-a-copy\n",
            "  \"\"\"Entry point for launching an IPython kernel.\n",
            "/usr/local/lib/python3.7/dist-packages/ipykernel_launcher.py:2: SettingWithCopyWarning: \n",
            "A value is trying to be set on a copy of a slice from a DataFrame\n",
            "\n",
            "See the caveats in the documentation: https://pandas.pydata.org/pandas-docs/stable/user_guide/indexing.html#returning-a-view-versus-a-copy\n",
            "  \n",
            "/usr/local/lib/python3.7/dist-packages/ipykernel_launcher.py:3: SettingWithCopyWarning: \n",
            "A value is trying to be set on a copy of a slice from a DataFrame\n",
            "\n",
            "See the caveats in the documentation: https://pandas.pydata.org/pandas-docs/stable/user_guide/indexing.html#returning-a-view-versus-a-copy\n",
            "  This is separate from the ipykernel package so we can avoid doing imports until\n",
            "/usr/local/lib/python3.7/dist-packages/ipykernel_launcher.py:4: SettingWithCopyWarning: \n",
            "A value is trying to be set on a copy of a slice from a DataFrame\n",
            "\n",
            "See the caveats in the documentation: https://pandas.pydata.org/pandas-docs/stable/user_guide/indexing.html#returning-a-view-versus-a-copy\n",
            "  after removing the cwd from sys.path.\n",
            "/usr/local/lib/python3.7/dist-packages/ipykernel_launcher.py:5: SettingWithCopyWarning: \n",
            "A value is trying to be set on a copy of a slice from a DataFrame\n",
            "\n",
            "See the caveats in the documentation: https://pandas.pydata.org/pandas-docs/stable/user_guide/indexing.html#returning-a-view-versus-a-copy\n",
            "  \"\"\"\n"
          ],
          "name": "stderr"
        },
        {
          "output_type": "execute_result",
          "data": {
            "text/plain": [
              "array(['1', '3', '0'], dtype=object)"
            ]
          },
          "metadata": {
            "tags": []
          },
          "execution_count": 13
        }
      ]
    },
    {
      "cell_type": "code",
      "metadata": {
        "colab": {
          "base_uri": "https://localhost:8080/"
        },
        "id": "Sjam95if6A20",
        "outputId": "5f7f8699-673e-47eb-b3fd-87fbac90528e"
      },
      "source": [
        "data['Condition of the House'] = data['Condition of the House'].map({'Good' : '1',\n",
        "                                                                    'Excellent' : '3',\n",
        "                                                                      'Bad' : '0',\n",
        "                                                                      'Fair' : '1',\n",
        "                                                                      'Okay' : '0' })\n",
        "\n",
        "data['Condition of the House'].unique()"
      ],
      "execution_count": null,
      "outputs": [
        {
          "output_type": "execute_result",
          "data": {
            "text/plain": [
              "array([nan], dtype=object)"
            ]
          },
          "metadata": {
            "tags": []
          },
          "execution_count": 14
        }
      ]
    },
    {
      "cell_type": "code",
      "metadata": {
        "id": "-TjYxL0P8QZj"
      },
      "source": [
        "year = []\n",
        "for i in range(len(data['Date House was Sold'])):\n",
        "  k = data['Date House was Sold'][i].split()[-1]\n",
        "  year.append(k)\n",
        "\n",
        "  data['year_sold'] = year\n",
        "  data['year_sold'].head()"
      ],
      "execution_count": null,
      "outputs": []
    },
    {
      "cell_type": "markdown",
      "metadata": {
        "id": "XJOFhlDyuJ2H"
      },
      "source": [
        "# Pandas.apply() Functiom"
      ]
    },
    {
      "cell_type": "code",
      "metadata": {
        "id": "wxotIeD5uIrW"
      },
      "source": [
        "data['luxury_home'] = 0\n",
        "\n",
        "for i in range(len(data)):\n",
        " count = 0\n",
        "if data['Waterfront View'][i] == 'Yes':\n",
        "  count = count+1\n",
        "  if data['Condition of the House'][i] in ['Good', 'Excellent']:\n",
        "    count = count+1\n",
        "  if data['Overall Grade'][i] >= 8:\n",
        "      count = count+1\n",
        "  if count >= 2:\n",
        "        data['luxury_home'][i] = 'Yes'\n",
        "  else:\n",
        "          data['luxury_home'][i] = 'No'\n",
        "\n",
        "          data['luxury_home'].unique()"
      ],
      "execution_count": null,
      "outputs": []
    },
    {
      "cell_type": "code",
      "metadata": {
        "id": "efOiRXtLxjbs"
      },
      "source": [
        "#Same operation by pandas.apply() Function:-\n",
        "\n",
        " def luxury_home(row):\n",
        "count = 0\n",
        "if row[0] == 'Yes':\n",
        "  count = count+1\n",
        "if row[1] in ['Good', 'Excellent']:\n",
        "    count = count+1\n",
        "if row[2] >= 8:\n",
        "      count = count+1\n",
        "if count >=2:\n",
        "     return 'Yes\n",
        "else:\n",
        "          return 'No'\n",
        "\n",
        "          data['luxury_home'].unique()"
      ],
      "execution_count": null,
      "outputs": []
    }
  ]
}